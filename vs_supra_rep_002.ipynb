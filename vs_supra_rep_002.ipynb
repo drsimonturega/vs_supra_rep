{
  "cells": [
    {
      "cell_type": "markdown",
      "metadata": {
        "id": "view-in-github",
        "colab_type": "text"
      },
      "source": [
        "<a href=\"https://colab.research.google.com/github/drsimonturega/vs_supra_rep/blob/main/vs_supra_rep_002.ipynb\" target=\"_parent\"><img src=\"https://colab.research.google.com/assets/colab-badge.svg\" alt=\"Open In Colab\"/></a>"
      ]
    },
    {
      "cell_type": "markdown",
      "id": "d8f9aae7",
      "metadata": {
        "id": "d8f9aae7"
      },
      "source": [
        "# Virtual screening for high affinity guests for synthetic supramolecular receptors"
      ]
    },
    {
      "cell_type": "markdown",
      "source": [
        "### Orginal literature\n",
        " https://doi.org/10.1039/C5SC00534E"
      ],
      "metadata": {
        "id": "udTNCD8ahs0T"
      },
      "id": "udTNCD8ahs0T"
    },
    {
      "cell_type": "markdown",
      "source": [
        "#### Reseting the node we are on\n",
        "Removing the data set and simons_data_science_library so we can re-run the experiment. This uses the ```rm``` command be careful."
      ],
      "metadata": {
        "id": "EBEha4F6qpaT"
      },
      "id": "EBEha4F6qpaT"
    },
    {
      "cell_type": "code",
      "source": [
        "#this has to run outside of colab as well as in colab\n",
        "#check if this file path is relative or absolute\n",
        "def rmrs_dir():\n",
        "  %cd /content\n",
        "  !rm -rf simons_data_science_library vs_supra_rep\n",
        "  !pwd\n",
        "  !ls\n"
      ],
      "metadata": {
        "id": "ClvmJjZzodI9"
      },
      "id": "ClvmJjZzodI9",
      "execution_count": 1,
      "outputs": []
    },
    {
      "cell_type": "code",
      "source": [
        "rmrs_dir()"
      ],
      "metadata": {
        "id": "u0xSFHUsONju",
        "outputId": "f4442f1f-a14e-43f9-aef2-e5215ab81d0e",
        "colab": {
          "base_uri": "https://localhost:8080/"
        }
      },
      "id": "u0xSFHUsONju",
      "execution_count": 2,
      "outputs": [
        {
          "output_type": "stream",
          "name": "stdout",
          "text": [
            "/content\n",
            "/content\n",
            "sample_data\n"
          ]
        }
      ]
    },
    {
      "cell_type": "markdown",
      "source": [
        "### Clone my data science library"
      ],
      "metadata": {
        "id": "RY6ofJlTLblG"
      },
      "id": "RY6ofJlTLblG"
    },
    {
      "cell_type": "markdown",
      "source": [
        "#### simons_data_science_library\n",
        "This GitHub repository conatins  the python classes and methods you need to run our expeiment. we will be using the *dat_tran*, *db_utils* and *plotter* claesses and the methods within."
      ],
      "metadata": {
        "id": "veihCk5IvEMq"
      },
      "id": "veihCk5IvEMq"
    },
    {
      "cell_type": "code",
      "source": [
        "!git clone  https://github.com/drsimonturega/simons_data_science_library.git"
      ],
      "metadata": {
        "colab": {
          "base_uri": "https://localhost:8080/"
        },
        "id": "LjMhz2uqJftq",
        "outputId": "1fcf6ae2-5144-4f0c-ce22-41c3637234e5"
      },
      "id": "LjMhz2uqJftq",
      "execution_count": 3,
      "outputs": [
        {
          "output_type": "stream",
          "name": "stdout",
          "text": [
            "Cloning into 'simons_data_science_library'...\n",
            "remote: Enumerating objects: 27, done.\u001b[K\n",
            "remote: Counting objects: 100% (27/27), done.\u001b[K\n",
            "remote: Compressing objects: 100% (18/18), done.\u001b[K\n",
            "remote: Total 27 (delta 8), reused 17 (delta 5), pack-reused 0 (from 0)\u001b[K\n",
            "Receiving objects: 100% (27/27), 15.84 KiB | 1.98 MiB/s, done.\n",
            "Resolving deltas: 100% (8/8), done.\n"
          ]
        }
      ]
    },
    {
      "cell_type": "markdown",
      "source": [
        "#### Check the python class *.py* files are in the *simon_data_science_libaray* directory\n",
        "Using the ```ls``` command."
      ],
      "metadata": {
        "id": "PinL6I73wWhK"
      },
      "id": "PinL6I73wWhK"
    },
    {
      "cell_type": "code",
      "source": [
        "ls simons_data_science_library"
      ],
      "metadata": {
        "colab": {
          "base_uri": "https://localhost:8080/"
        },
        "id": "K4TB7DlNwY2p",
        "outputId": "9bfbccf3-53e6-45fe-f6cc-fe0614efff85"
      },
      "id": "K4TB7DlNwY2p",
      "execution_count": 4,
      "outputs": [
        {
          "output_type": "stream",
          "name": "stdout",
          "text": [
            "dataframe_tran.py  dat_tran.py  plotter.py\n",
            "dat_frame_inf.py   db_utils.py  README.md\n"
          ]
        }
      ]
    },
    {
      "cell_type": "markdown",
      "source": [
        "#### Imports"
      ],
      "metadata": {
        "id": "gOXScx-VNFs9"
      },
      "id": "gOXScx-VNFs9"
    },
    {
      "cell_type": "code",
      "execution_count": 5,
      "id": "176899e2",
      "metadata": {
        "id": "176899e2"
      },
      "outputs": [],
      "source": [
        "import pandas as pd\n",
        "import numpy as np\n",
        "from sklearn.linear_model import LinearRegression\n",
        "from sklearn.metrics import root_mean_squared_error\n",
        "from sklearn.model_selection import train_test_split\n",
        "from sklearn import preprocessing\n",
        "from sklearn.neural_network import MLPRegressor\n",
        "from sklearn.ensemble import RandomForestRegressor\n",
        "from simons_data_science_library import dat_tran as dtran\n",
        "from simons_data_science_library import db_utils as rdc\n",
        "from simons_data_science_library import plotter"
      ]
    },
    {
      "cell_type": "markdown",
      "source": [
        "#### Data set\n",
        "This GitHub repository conatins  *.txt* files with space delimited data from the supplementary information files, retrived as part to the original literature."
      ],
      "metadata": {
        "id": "Mt591L27k5sO"
      },
      "id": "Mt591L27k5sO"
    },
    {
      "cell_type": "code",
      "source": [
        "!git clone https://github.com/drsimonturega/vs_supra_rep.git"
      ],
      "metadata": {
        "colab": {
          "base_uri": "https://localhost:8080/"
        },
        "id": "UO1DRhYdJWmf",
        "outputId": "79331b45-75d6-4ee8-ac7d-faa9fdbbaf07"
      },
      "id": "UO1DRhYdJWmf",
      "execution_count": 6,
      "outputs": [
        {
          "output_type": "stream",
          "name": "stdout",
          "text": [
            "Cloning into 'vs_supra_rep'...\n",
            "remote: Enumerating objects: 73, done.\u001b[K\n",
            "remote: Counting objects: 100% (73/73), done.\u001b[K\n",
            "remote: Compressing objects: 100% (69/69), done.\u001b[K\n",
            "Receiving objects: 100% (73/73), 609.93 KiB | 9.84 MiB/s, done.\n",
            "remote: Total 73 (delta 37), reused 11 (delta 1), pack-reused 0 (from 0)\u001b[K\n",
            "Resolving deltas: 100% (37/37), done.\n"
          ]
        }
      ]
    },
    {
      "cell_type": "markdown",
      "source": [
        "#### Check the *.text* files are in the *vs_supra_rep* directory\n",
        "Using the ```ls``` command."
      ],
      "metadata": {
        "id": "CQ-xXfHLtVGD"
      },
      "id": "CQ-xXfHLtVGD"
    },
    {
      "cell_type": "code",
      "source": [
        "ls vs_supra_rep"
      ],
      "metadata": {
        "colab": {
          "base_uri": "https://localhost:8080/"
        },
        "id": "5hsaM6dfoMg1",
        "outputId": "61059e52-21f7-48cc-a742-00ec729f30a4"
      },
      "id": "5hsaM6dfoMg1",
      "execution_count": 7,
      "outputs": [
        {
          "output_type": "stream",
          "name": "stdout",
          "text": [
            "chemplp_score.txt       eq3_train_lit_logk.txt  README.md\n",
            "eq2_train_lit_logk.txt  gold_weightings.txt     vs_supra_rep_001.ipynb\n",
            "eq3_test_lit_logk.txt   new_guests.txt          vs_supra_rep_002.ipynb\n"
          ]
        }
      ]
    },
    {
      "cell_type": "markdown",
      "source": [
        "### Change to data directory\n",
        "Using the ```cd``` comand"
      ],
      "metadata": {
        "id": "czJPZ54NLoMR"
      },
      "id": "czJPZ54NLoMR"
    },
    {
      "cell_type": "code",
      "source": [
        "cd vs_supra_rep/"
      ],
      "metadata": {
        "colab": {
          "base_uri": "https://localhost:8080/"
        },
        "id": "RQFOQIsOJokP",
        "outputId": "1241c2e1-8a1d-481b-a188-b2e83e59cdc2"
      },
      "id": "RQFOQIsOJokP",
      "execution_count": 8,
      "outputs": [
        {
          "output_type": "stream",
          "name": "stdout",
          "text": [
            "/content/vs_supra_rep\n"
          ]
        }
      ]
    },
    {
      "cell_type": "markdown",
      "source": [
        "#### Check I am in the right directory\n",
        "Using the ```pwd``` command, it should return ```/content/vs_supra_rep```"
      ],
      "metadata": {
        "id": "2925r7mNLzta"
      },
      "id": "2925r7mNLzta"
    },
    {
      "cell_type": "code",
      "source": [
        "pwd"
      ],
      "metadata": {
        "colab": {
          "base_uri": "https://localhost:8080/",
          "height": 35
        },
        "id": "EIcKpdJ3JsIo",
        "outputId": "e405813d-261c-42ae-b287-966bfeebdaf2"
      },
      "id": "EIcKpdJ3JsIo",
      "execution_count": 9,
      "outputs": [
        {
          "output_type": "execute_result",
          "data": {
            "text/plain": [
              "'/content/vs_supra_rep'"
            ],
            "application/vnd.google.colaboratory.intrinsic+json": {
              "type": "string"
            }
          },
          "metadata": {},
          "execution_count": 9
        }
      ]
    },
    {
      "cell_type": "markdown",
      "id": "d64092e4",
      "metadata": {
        "id": "d64092e4"
      },
      "source": [
        "## Replication of our analysis in the manuscript using python"
      ]
    },
    {
      "cell_type": "markdown",
      "id": "2e47b26a",
      "metadata": {
        "id": "2e47b26a"
      },
      "source": [
        "### We load and clean data from the supporting information\n",
        "\n",
        "#### Molecular descriptors"
      ]
    },
    {
      "cell_type": "code",
      "execution_count": 10,
      "id": "80ce6c7f",
      "metadata": {
        "colab": {
          "base_uri": "https://localhost:8080/"
        },
        "id": "80ce6c7f",
        "outputId": "12d3db1b-5464-455d-8dda-63cf9fc4f5ea"
      },
      "outputs": [
        {
          "output_type": "stream",
          "name": "stdout",
          "text": [
            "our df\n",
            "   Guest  Ligand_clash  Ligand_torsion  Part_buried  Non-polar  \\\n",
            "0      1           0.0             0.0      -2.1090   -43.3137   \n",
            "1      2           0.0             0.0      -3.0465   -27.4388   \n",
            "2      3           0.0             0.0      -2.4099   -41.2634   \n",
            "3      4           0.0             0.0      -2.2600   -32.0514   \n",
            "4      5           0.0             0.0      -2.7351   -40.6438   \n",
            "\n",
            "   Ligand_flexibility  \n",
            "0                   0  \n",
            "1                   0  \n",
            "2                   0  \n",
            "3                   0  \n",
            "4                   0  \n"
          ]
        }
      ],
      "source": [
        "tab_gold_wt = rdc.RDSDatabaseConnector.csv_load('gold_weightings.txt', ' ')"
      ]
    },
    {
      "cell_type": "markdown",
      "id": "34098de4",
      "metadata": {
        "id": "34098de4"
      },
      "source": [
        "#### ChemPLP scoring function"
      ]
    },
    {
      "cell_type": "code",
      "execution_count": 11,
      "id": "5fe1a1db",
      "metadata": {
        "colab": {
          "base_uri": "https://localhost:8080/"
        },
        "id": "5fe1a1db",
        "outputId": "d9e4c45a-125f-4ee7-9c97-34c42ef49ce0"
      },
      "outputs": [
        {
          "output_type": "stream",
          "name": "stdout",
          "text": [
            "our df\n",
            "   Guest  logKexpt  ChemPLP_Score  Guest.1  logKexpt.1  ChemPLP_Score.1  \\\n",
            "0      1      3.49          49.81       19        4.28            45.54   \n",
            "1      2      1.15          39.49       20        3.94            50.66   \n",
            "2      3      3.83          48.47       21        1.15            47.52   \n",
            "3      4      1.87          38.88       22        1.73            38.51   \n",
            "4      5      3.96          47.67       23        2.11            39.26   \n",
            "\n",
            "   Guest.2  logKexpt.2  ChemPLP_Score.2  \n",
            "0       37        4.90            53.86  \n",
            "1       38        4.30            57.79  \n",
            "2       39        4.00            49.12  \n",
            "3       40        1.95            45.94  \n",
            "4       41        2.08            53.28  \n"
          ]
        }
      ],
      "source": [
        "chemplp_score = rdc.RDSDatabaseConnector.csv_load('chemplp_score.txt', ' ')\n"
      ]
    },
    {
      "cell_type": "markdown",
      "source": [
        "#### I need to clean and reshape my data\n",
        "That involves removing nan values and reshaping the nine columns to three. I have writen a method in my DataTransform class to do this, should this be two methods???"
      ],
      "metadata": {
        "id": "uOoJKDKVM1ML"
      },
      "id": "uOoJKDKVM1ML"
    },
    {
      "cell_type": "code",
      "execution_count": 12,
      "id": "03ba6a53",
      "metadata": {
        "colab": {
          "base_uri": "https://localhost:8080/",
          "height": 223
        },
        "id": "03ba6a53",
        "outputId": "9eff3c6a-6e0f-447f-f967-4c3a8aaceaad"
      },
      "outputs": [
        {
          "output_type": "stream",
          "name": "stdout",
          "text": [
            "3\n"
          ]
        },
        {
          "output_type": "execute_result",
          "data": {
            "text/plain": [
              "    Guest  logKexpt  ChemPLP_Score\n",
              "49     50      2.30          44.66\n",
              "50     51      0.48          40.70\n",
              "51     52      0.70          42.40\n",
              "52     53      0.90          39.14\n",
              "53     54      0.70          46.49"
            ],
            "text/html": [
              "\n",
              "  <div id=\"df-60e66864-c35a-4ca1-b425-47d8a6be1aff\" class=\"colab-df-container\">\n",
              "    <div>\n",
              "<style scoped>\n",
              "    .dataframe tbody tr th:only-of-type {\n",
              "        vertical-align: middle;\n",
              "    }\n",
              "\n",
              "    .dataframe tbody tr th {\n",
              "        vertical-align: top;\n",
              "    }\n",
              "\n",
              "    .dataframe thead th {\n",
              "        text-align: right;\n",
              "    }\n",
              "</style>\n",
              "<table border=\"1\" class=\"dataframe\">\n",
              "  <thead>\n",
              "    <tr style=\"text-align: right;\">\n",
              "      <th></th>\n",
              "      <th>Guest</th>\n",
              "      <th>logKexpt</th>\n",
              "      <th>ChemPLP_Score</th>\n",
              "    </tr>\n",
              "  </thead>\n",
              "  <tbody>\n",
              "    <tr>\n",
              "      <th>49</th>\n",
              "      <td>50</td>\n",
              "      <td>2.30</td>\n",
              "      <td>44.66</td>\n",
              "    </tr>\n",
              "    <tr>\n",
              "      <th>50</th>\n",
              "      <td>51</td>\n",
              "      <td>0.48</td>\n",
              "      <td>40.70</td>\n",
              "    </tr>\n",
              "    <tr>\n",
              "      <th>51</th>\n",
              "      <td>52</td>\n",
              "      <td>0.70</td>\n",
              "      <td>42.40</td>\n",
              "    </tr>\n",
              "    <tr>\n",
              "      <th>52</th>\n",
              "      <td>53</td>\n",
              "      <td>0.90</td>\n",
              "      <td>39.14</td>\n",
              "    </tr>\n",
              "    <tr>\n",
              "      <th>53</th>\n",
              "      <td>54</td>\n",
              "      <td>0.70</td>\n",
              "      <td>46.49</td>\n",
              "    </tr>\n",
              "  </tbody>\n",
              "</table>\n",
              "</div>\n",
              "    <div class=\"colab-df-buttons\">\n",
              "\n",
              "  <div class=\"colab-df-container\">\n",
              "    <button class=\"colab-df-convert\" onclick=\"convertToInteractive('df-60e66864-c35a-4ca1-b425-47d8a6be1aff')\"\n",
              "            title=\"Convert this dataframe to an interactive table.\"\n",
              "            style=\"display:none;\">\n",
              "\n",
              "  <svg xmlns=\"http://www.w3.org/2000/svg\" height=\"24px\" viewBox=\"0 -960 960 960\">\n",
              "    <path d=\"M120-120v-720h720v720H120Zm60-500h600v-160H180v160Zm220 220h160v-160H400v160Zm0 220h160v-160H400v160ZM180-400h160v-160H180v160Zm440 0h160v-160H620v160ZM180-180h160v-160H180v160Zm440 0h160v-160H620v160Z\"/>\n",
              "  </svg>\n",
              "    </button>\n",
              "\n",
              "  <style>\n",
              "    .colab-df-container {\n",
              "      display:flex;\n",
              "      gap: 12px;\n",
              "    }\n",
              "\n",
              "    .colab-df-convert {\n",
              "      background-color: #E8F0FE;\n",
              "      border: none;\n",
              "      border-radius: 50%;\n",
              "      cursor: pointer;\n",
              "      display: none;\n",
              "      fill: #1967D2;\n",
              "      height: 32px;\n",
              "      padding: 0 0 0 0;\n",
              "      width: 32px;\n",
              "    }\n",
              "\n",
              "    .colab-df-convert:hover {\n",
              "      background-color: #E2EBFA;\n",
              "      box-shadow: 0px 1px 2px rgba(60, 64, 67, 0.3), 0px 1px 3px 1px rgba(60, 64, 67, 0.15);\n",
              "      fill: #174EA6;\n",
              "    }\n",
              "\n",
              "    .colab-df-buttons div {\n",
              "      margin-bottom: 4px;\n",
              "    }\n",
              "\n",
              "    [theme=dark] .colab-df-convert {\n",
              "      background-color: #3B4455;\n",
              "      fill: #D2E3FC;\n",
              "    }\n",
              "\n",
              "    [theme=dark] .colab-df-convert:hover {\n",
              "      background-color: #434B5C;\n",
              "      box-shadow: 0px 1px 3px 1px rgba(0, 0, 0, 0.15);\n",
              "      filter: drop-shadow(0px 1px 2px rgba(0, 0, 0, 0.3));\n",
              "      fill: #FFFFFF;\n",
              "    }\n",
              "  </style>\n",
              "\n",
              "    <script>\n",
              "      const buttonEl =\n",
              "        document.querySelector('#df-60e66864-c35a-4ca1-b425-47d8a6be1aff button.colab-df-convert');\n",
              "      buttonEl.style.display =\n",
              "        google.colab.kernel.accessAllowed ? 'block' : 'none';\n",
              "\n",
              "      async function convertToInteractive(key) {\n",
              "        const element = document.querySelector('#df-60e66864-c35a-4ca1-b425-47d8a6be1aff');\n",
              "        const dataTable =\n",
              "          await google.colab.kernel.invokeFunction('convertToInteractive',\n",
              "                                                    [key], {});\n",
              "        if (!dataTable) return;\n",
              "\n",
              "        const docLinkHtml = 'Like what you see? Visit the ' +\n",
              "          '<a target=\"_blank\" href=https://colab.research.google.com/notebooks/data_table.ipynb>data table notebook</a>'\n",
              "          + ' to learn more about interactive tables.';\n",
              "        element.innerHTML = '';\n",
              "        dataTable['output_type'] = 'display_data';\n",
              "        await google.colab.output.renderOutput(dataTable, element);\n",
              "        const docLink = document.createElement('div');\n",
              "        docLink.innerHTML = docLinkHtml;\n",
              "        element.appendChild(docLink);\n",
              "      }\n",
              "    </script>\n",
              "  </div>\n",
              "\n",
              "\n",
              "    <div id=\"df-f119696c-ef57-4f68-8129-46ad17f62585\">\n",
              "      <button class=\"colab-df-quickchart\" onclick=\"quickchart('df-f119696c-ef57-4f68-8129-46ad17f62585')\"\n",
              "                title=\"Suggest charts\"\n",
              "                style=\"display:none;\">\n",
              "\n",
              "<svg xmlns=\"http://www.w3.org/2000/svg\" height=\"24px\"viewBox=\"0 0 24 24\"\n",
              "     width=\"24px\">\n",
              "    <g>\n",
              "        <path d=\"M19 3H5c-1.1 0-2 .9-2 2v14c0 1.1.9 2 2 2h14c1.1 0 2-.9 2-2V5c0-1.1-.9-2-2-2zM9 17H7v-7h2v7zm4 0h-2V7h2v10zm4 0h-2v-4h2v4z\"/>\n",
              "    </g>\n",
              "</svg>\n",
              "      </button>\n",
              "\n",
              "<style>\n",
              "  .colab-df-quickchart {\n",
              "      --bg-color: #E8F0FE;\n",
              "      --fill-color: #1967D2;\n",
              "      --hover-bg-color: #E2EBFA;\n",
              "      --hover-fill-color: #174EA6;\n",
              "      --disabled-fill-color: #AAA;\n",
              "      --disabled-bg-color: #DDD;\n",
              "  }\n",
              "\n",
              "  [theme=dark] .colab-df-quickchart {\n",
              "      --bg-color: #3B4455;\n",
              "      --fill-color: #D2E3FC;\n",
              "      --hover-bg-color: #434B5C;\n",
              "      --hover-fill-color: #FFFFFF;\n",
              "      --disabled-bg-color: #3B4455;\n",
              "      --disabled-fill-color: #666;\n",
              "  }\n",
              "\n",
              "  .colab-df-quickchart {\n",
              "    background-color: var(--bg-color);\n",
              "    border: none;\n",
              "    border-radius: 50%;\n",
              "    cursor: pointer;\n",
              "    display: none;\n",
              "    fill: var(--fill-color);\n",
              "    height: 32px;\n",
              "    padding: 0;\n",
              "    width: 32px;\n",
              "  }\n",
              "\n",
              "  .colab-df-quickchart:hover {\n",
              "    background-color: var(--hover-bg-color);\n",
              "    box-shadow: 0 1px 2px rgba(60, 64, 67, 0.3), 0 1px 3px 1px rgba(60, 64, 67, 0.15);\n",
              "    fill: var(--button-hover-fill-color);\n",
              "  }\n",
              "\n",
              "  .colab-df-quickchart-complete:disabled,\n",
              "  .colab-df-quickchart-complete:disabled:hover {\n",
              "    background-color: var(--disabled-bg-color);\n",
              "    fill: var(--disabled-fill-color);\n",
              "    box-shadow: none;\n",
              "  }\n",
              "\n",
              "  .colab-df-spinner {\n",
              "    border: 2px solid var(--fill-color);\n",
              "    border-color: transparent;\n",
              "    border-bottom-color: var(--fill-color);\n",
              "    animation:\n",
              "      spin 1s steps(1) infinite;\n",
              "  }\n",
              "\n",
              "  @keyframes spin {\n",
              "    0% {\n",
              "      border-color: transparent;\n",
              "      border-bottom-color: var(--fill-color);\n",
              "      border-left-color: var(--fill-color);\n",
              "    }\n",
              "    20% {\n",
              "      border-color: transparent;\n",
              "      border-left-color: var(--fill-color);\n",
              "      border-top-color: var(--fill-color);\n",
              "    }\n",
              "    30% {\n",
              "      border-color: transparent;\n",
              "      border-left-color: var(--fill-color);\n",
              "      border-top-color: var(--fill-color);\n",
              "      border-right-color: var(--fill-color);\n",
              "    }\n",
              "    40% {\n",
              "      border-color: transparent;\n",
              "      border-right-color: var(--fill-color);\n",
              "      border-top-color: var(--fill-color);\n",
              "    }\n",
              "    60% {\n",
              "      border-color: transparent;\n",
              "      border-right-color: var(--fill-color);\n",
              "    }\n",
              "    80% {\n",
              "      border-color: transparent;\n",
              "      border-right-color: var(--fill-color);\n",
              "      border-bottom-color: var(--fill-color);\n",
              "    }\n",
              "    90% {\n",
              "      border-color: transparent;\n",
              "      border-bottom-color: var(--fill-color);\n",
              "    }\n",
              "  }\n",
              "</style>\n",
              "\n",
              "      <script>\n",
              "        async function quickchart(key) {\n",
              "          const quickchartButtonEl =\n",
              "            document.querySelector('#' + key + ' button');\n",
              "          quickchartButtonEl.disabled = true;  // To prevent multiple clicks.\n",
              "          quickchartButtonEl.classList.add('colab-df-spinner');\n",
              "          try {\n",
              "            const charts = await google.colab.kernel.invokeFunction(\n",
              "                'suggestCharts', [key], {});\n",
              "          } catch (error) {\n",
              "            console.error('Error during call to suggestCharts:', error);\n",
              "          }\n",
              "          quickchartButtonEl.classList.remove('colab-df-spinner');\n",
              "          quickchartButtonEl.classList.add('colab-df-quickchart-complete');\n",
              "        }\n",
              "        (() => {\n",
              "          let quickchartButtonEl =\n",
              "            document.querySelector('#df-f119696c-ef57-4f68-8129-46ad17f62585 button');\n",
              "          quickchartButtonEl.style.display =\n",
              "            google.colab.kernel.accessAllowed ? 'block' : 'none';\n",
              "        })();\n",
              "      </script>\n",
              "    </div>\n",
              "\n",
              "    </div>\n",
              "  </div>\n"
            ],
            "application/vnd.google.colaboratory.intrinsic+json": {
              "type": "dataframe",
              "summary": "{\n  \"name\": \"chemplp_score\",\n  \"rows\": 5,\n  \"fields\": [\n    {\n      \"column\": \"Guest\",\n      \"properties\": {\n        \"dtype\": \"number\",\n        \"std\": 1,\n        \"min\": 50,\n        \"max\": 54,\n        \"num_unique_values\": 5,\n        \"samples\": [\n          51,\n          54,\n          52\n        ],\n        \"semantic_type\": \"\",\n        \"description\": \"\"\n      }\n    },\n    {\n      \"column\": \"logKexpt\",\n      \"properties\": {\n        \"dtype\": \"number\",\n        \"std\": 0.7329938608201298,\n        \"min\": 0.48,\n        \"max\": 2.3,\n        \"num_unique_values\": 4,\n        \"samples\": [\n          0.48,\n          0.9,\n          2.3\n        ],\n        \"semantic_type\": \"\",\n        \"description\": \"\"\n      }\n    },\n    {\n      \"column\": \"ChemPLP_Score\",\n      \"properties\": {\n        \"dtype\": \"number\",\n        \"std\": 2.9566399848476643,\n        \"min\": 39.14,\n        \"max\": 46.49,\n        \"num_unique_values\": 5,\n        \"samples\": [\n          40.7,\n          46.49,\n          42.4\n        ],\n        \"semantic_type\": \"\",\n        \"description\": \"\"\n      }\n    }\n  ]\n}"
            }
          },
          "metadata": {},
          "execution_count": 12
        }
      ],
      "source": [
        "chemplp_score = dtran.DataTransform.df_reshape_one(chemplp_score,3)\n",
        "chemplp_score.tail()\n"
      ]
    },
    {
      "cell_type": "markdown",
      "id": "d2b56b49",
      "metadata": {
        "id": "d2b56b49"
      },
      "source": [
        "#### Load the LogK calculated using equation 3\n",
        "so I can access the logKexpt values"
      ]
    },
    {
      "cell_type": "code",
      "execution_count": 13,
      "id": "3076d3e3",
      "metadata": {
        "colab": {
          "base_uri": "https://localhost:8080/"
        },
        "id": "3076d3e3",
        "outputId": "a8e86f95-5029-44b3-f778-f33bde107087"
      },
      "outputs": [
        {
          "output_type": "stream",
          "name": "stdout",
          "text": [
            "our df\n",
            "   Guest  logKexpt  logKcalc  Guest.1  logKexpt.1  logKcalc.1  Guest.2  \\\n",
            "0      1      3.49      4.02       19        4.28        3.58       37   \n",
            "1      2      1.15      2.20       20        3.94        3.52       38   \n",
            "2      3      3.83      3.75       21        1.15        2.40       39   \n",
            "3      4      1.87      2.83       22        1.73        2.85       40   \n",
            "4      5      3.96      3.62       23        2.11        2.87       41   \n",
            "\n",
            "   logKexpt.2  logKcalc.2  \n",
            "0        4.90        3.02  \n",
            "1        4.30        3.82  \n",
            "2        4.00        3.95  \n",
            "3        1.95        3.58  \n",
            "4        2.08        1.75  \n"
          ]
        }
      ],
      "source": [
        "eq3_train_logk= rdc.RDSDatabaseConnector.csv_load('eq3_train_lit_logk.txt', ' ')"
      ]
    },
    {
      "cell_type": "markdown",
      "source": [
        "#### I need to clean and reshape my data\n",
        "I used the same method as last time, on the training data then the test data"
      ],
      "metadata": {
        "id": "Rv88r5VuOZut"
      },
      "id": "Rv88r5VuOZut"
    },
    {
      "cell_type": "code",
      "execution_count": 14,
      "id": "d26315c9",
      "metadata": {
        "colab": {
          "base_uri": "https://localhost:8080/",
          "height": 223
        },
        "id": "d26315c9",
        "outputId": "b7f814cf-260d-4572-fea7-4021ae98dc89"
      },
      "outputs": [
        {
          "output_type": "stream",
          "name": "stdout",
          "text": [
            "3\n"
          ]
        },
        {
          "output_type": "execute_result",
          "data": {
            "text/plain": [
              "    Guest  logKexpt  logKcalc\n",
              "49     50      2.30      3.66\n",
              "50     51      0.48      2.29\n",
              "51     52      0.70      2.19\n",
              "52     53      0.90      1.58\n",
              "53     54      0.70      1.41"
            ],
            "text/html": [
              "\n",
              "  <div id=\"df-4b0adfc8-d352-48a3-9c47-88ca70e2c892\" class=\"colab-df-container\">\n",
              "    <div>\n",
              "<style scoped>\n",
              "    .dataframe tbody tr th:only-of-type {\n",
              "        vertical-align: middle;\n",
              "    }\n",
              "\n",
              "    .dataframe tbody tr th {\n",
              "        vertical-align: top;\n",
              "    }\n",
              "\n",
              "    .dataframe thead th {\n",
              "        text-align: right;\n",
              "    }\n",
              "</style>\n",
              "<table border=\"1\" class=\"dataframe\">\n",
              "  <thead>\n",
              "    <tr style=\"text-align: right;\">\n",
              "      <th></th>\n",
              "      <th>Guest</th>\n",
              "      <th>logKexpt</th>\n",
              "      <th>logKcalc</th>\n",
              "    </tr>\n",
              "  </thead>\n",
              "  <tbody>\n",
              "    <tr>\n",
              "      <th>49</th>\n",
              "      <td>50</td>\n",
              "      <td>2.30</td>\n",
              "      <td>3.66</td>\n",
              "    </tr>\n",
              "    <tr>\n",
              "      <th>50</th>\n",
              "      <td>51</td>\n",
              "      <td>0.48</td>\n",
              "      <td>2.29</td>\n",
              "    </tr>\n",
              "    <tr>\n",
              "      <th>51</th>\n",
              "      <td>52</td>\n",
              "      <td>0.70</td>\n",
              "      <td>2.19</td>\n",
              "    </tr>\n",
              "    <tr>\n",
              "      <th>52</th>\n",
              "      <td>53</td>\n",
              "      <td>0.90</td>\n",
              "      <td>1.58</td>\n",
              "    </tr>\n",
              "    <tr>\n",
              "      <th>53</th>\n",
              "      <td>54</td>\n",
              "      <td>0.70</td>\n",
              "      <td>1.41</td>\n",
              "    </tr>\n",
              "  </tbody>\n",
              "</table>\n",
              "</div>\n",
              "    <div class=\"colab-df-buttons\">\n",
              "\n",
              "  <div class=\"colab-df-container\">\n",
              "    <button class=\"colab-df-convert\" onclick=\"convertToInteractive('df-4b0adfc8-d352-48a3-9c47-88ca70e2c892')\"\n",
              "            title=\"Convert this dataframe to an interactive table.\"\n",
              "            style=\"display:none;\">\n",
              "\n",
              "  <svg xmlns=\"http://www.w3.org/2000/svg\" height=\"24px\" viewBox=\"0 -960 960 960\">\n",
              "    <path d=\"M120-120v-720h720v720H120Zm60-500h600v-160H180v160Zm220 220h160v-160H400v160Zm0 220h160v-160H400v160ZM180-400h160v-160H180v160Zm440 0h160v-160H620v160ZM180-180h160v-160H180v160Zm440 0h160v-160H620v160Z\"/>\n",
              "  </svg>\n",
              "    </button>\n",
              "\n",
              "  <style>\n",
              "    .colab-df-container {\n",
              "      display:flex;\n",
              "      gap: 12px;\n",
              "    }\n",
              "\n",
              "    .colab-df-convert {\n",
              "      background-color: #E8F0FE;\n",
              "      border: none;\n",
              "      border-radius: 50%;\n",
              "      cursor: pointer;\n",
              "      display: none;\n",
              "      fill: #1967D2;\n",
              "      height: 32px;\n",
              "      padding: 0 0 0 0;\n",
              "      width: 32px;\n",
              "    }\n",
              "\n",
              "    .colab-df-convert:hover {\n",
              "      background-color: #E2EBFA;\n",
              "      box-shadow: 0px 1px 2px rgba(60, 64, 67, 0.3), 0px 1px 3px 1px rgba(60, 64, 67, 0.15);\n",
              "      fill: #174EA6;\n",
              "    }\n",
              "\n",
              "    .colab-df-buttons div {\n",
              "      margin-bottom: 4px;\n",
              "    }\n",
              "\n",
              "    [theme=dark] .colab-df-convert {\n",
              "      background-color: #3B4455;\n",
              "      fill: #D2E3FC;\n",
              "    }\n",
              "\n",
              "    [theme=dark] .colab-df-convert:hover {\n",
              "      background-color: #434B5C;\n",
              "      box-shadow: 0px 1px 3px 1px rgba(0, 0, 0, 0.15);\n",
              "      filter: drop-shadow(0px 1px 2px rgba(0, 0, 0, 0.3));\n",
              "      fill: #FFFFFF;\n",
              "    }\n",
              "  </style>\n",
              "\n",
              "    <script>\n",
              "      const buttonEl =\n",
              "        document.querySelector('#df-4b0adfc8-d352-48a3-9c47-88ca70e2c892 button.colab-df-convert');\n",
              "      buttonEl.style.display =\n",
              "        google.colab.kernel.accessAllowed ? 'block' : 'none';\n",
              "\n",
              "      async function convertToInteractive(key) {\n",
              "        const element = document.querySelector('#df-4b0adfc8-d352-48a3-9c47-88ca70e2c892');\n",
              "        const dataTable =\n",
              "          await google.colab.kernel.invokeFunction('convertToInteractive',\n",
              "                                                    [key], {});\n",
              "        if (!dataTable) return;\n",
              "\n",
              "        const docLinkHtml = 'Like what you see? Visit the ' +\n",
              "          '<a target=\"_blank\" href=https://colab.research.google.com/notebooks/data_table.ipynb>data table notebook</a>'\n",
              "          + ' to learn more about interactive tables.';\n",
              "        element.innerHTML = '';\n",
              "        dataTable['output_type'] = 'display_data';\n",
              "        await google.colab.output.renderOutput(dataTable, element);\n",
              "        const docLink = document.createElement('div');\n",
              "        docLink.innerHTML = docLinkHtml;\n",
              "        element.appendChild(docLink);\n",
              "      }\n",
              "    </script>\n",
              "  </div>\n",
              "\n",
              "\n",
              "    <div id=\"df-1153ecbc-65ad-4235-8ea8-09df75352355\">\n",
              "      <button class=\"colab-df-quickchart\" onclick=\"quickchart('df-1153ecbc-65ad-4235-8ea8-09df75352355')\"\n",
              "                title=\"Suggest charts\"\n",
              "                style=\"display:none;\">\n",
              "\n",
              "<svg xmlns=\"http://www.w3.org/2000/svg\" height=\"24px\"viewBox=\"0 0 24 24\"\n",
              "     width=\"24px\">\n",
              "    <g>\n",
              "        <path d=\"M19 3H5c-1.1 0-2 .9-2 2v14c0 1.1.9 2 2 2h14c1.1 0 2-.9 2-2V5c0-1.1-.9-2-2-2zM9 17H7v-7h2v7zm4 0h-2V7h2v10zm4 0h-2v-4h2v4z\"/>\n",
              "    </g>\n",
              "</svg>\n",
              "      </button>\n",
              "\n",
              "<style>\n",
              "  .colab-df-quickchart {\n",
              "      --bg-color: #E8F0FE;\n",
              "      --fill-color: #1967D2;\n",
              "      --hover-bg-color: #E2EBFA;\n",
              "      --hover-fill-color: #174EA6;\n",
              "      --disabled-fill-color: #AAA;\n",
              "      --disabled-bg-color: #DDD;\n",
              "  }\n",
              "\n",
              "  [theme=dark] .colab-df-quickchart {\n",
              "      --bg-color: #3B4455;\n",
              "      --fill-color: #D2E3FC;\n",
              "      --hover-bg-color: #434B5C;\n",
              "      --hover-fill-color: #FFFFFF;\n",
              "      --disabled-bg-color: #3B4455;\n",
              "      --disabled-fill-color: #666;\n",
              "  }\n",
              "\n",
              "  .colab-df-quickchart {\n",
              "    background-color: var(--bg-color);\n",
              "    border: none;\n",
              "    border-radius: 50%;\n",
              "    cursor: pointer;\n",
              "    display: none;\n",
              "    fill: var(--fill-color);\n",
              "    height: 32px;\n",
              "    padding: 0;\n",
              "    width: 32px;\n",
              "  }\n",
              "\n",
              "  .colab-df-quickchart:hover {\n",
              "    background-color: var(--hover-bg-color);\n",
              "    box-shadow: 0 1px 2px rgba(60, 64, 67, 0.3), 0 1px 3px 1px rgba(60, 64, 67, 0.15);\n",
              "    fill: var(--button-hover-fill-color);\n",
              "  }\n",
              "\n",
              "  .colab-df-quickchart-complete:disabled,\n",
              "  .colab-df-quickchart-complete:disabled:hover {\n",
              "    background-color: var(--disabled-bg-color);\n",
              "    fill: var(--disabled-fill-color);\n",
              "    box-shadow: none;\n",
              "  }\n",
              "\n",
              "  .colab-df-spinner {\n",
              "    border: 2px solid var(--fill-color);\n",
              "    border-color: transparent;\n",
              "    border-bottom-color: var(--fill-color);\n",
              "    animation:\n",
              "      spin 1s steps(1) infinite;\n",
              "  }\n",
              "\n",
              "  @keyframes spin {\n",
              "    0% {\n",
              "      border-color: transparent;\n",
              "      border-bottom-color: var(--fill-color);\n",
              "      border-left-color: var(--fill-color);\n",
              "    }\n",
              "    20% {\n",
              "      border-color: transparent;\n",
              "      border-left-color: var(--fill-color);\n",
              "      border-top-color: var(--fill-color);\n",
              "    }\n",
              "    30% {\n",
              "      border-color: transparent;\n",
              "      border-left-color: var(--fill-color);\n",
              "      border-top-color: var(--fill-color);\n",
              "      border-right-color: var(--fill-color);\n",
              "    }\n",
              "    40% {\n",
              "      border-color: transparent;\n",
              "      border-right-color: var(--fill-color);\n",
              "      border-top-color: var(--fill-color);\n",
              "    }\n",
              "    60% {\n",
              "      border-color: transparent;\n",
              "      border-right-color: var(--fill-color);\n",
              "    }\n",
              "    80% {\n",
              "      border-color: transparent;\n",
              "      border-right-color: var(--fill-color);\n",
              "      border-bottom-color: var(--fill-color);\n",
              "    }\n",
              "    90% {\n",
              "      border-color: transparent;\n",
              "      border-bottom-color: var(--fill-color);\n",
              "    }\n",
              "  }\n",
              "</style>\n",
              "\n",
              "      <script>\n",
              "        async function quickchart(key) {\n",
              "          const quickchartButtonEl =\n",
              "            document.querySelector('#' + key + ' button');\n",
              "          quickchartButtonEl.disabled = true;  // To prevent multiple clicks.\n",
              "          quickchartButtonEl.classList.add('colab-df-spinner');\n",
              "          try {\n",
              "            const charts = await google.colab.kernel.invokeFunction(\n",
              "                'suggestCharts', [key], {});\n",
              "          } catch (error) {\n",
              "            console.error('Error during call to suggestCharts:', error);\n",
              "          }\n",
              "          quickchartButtonEl.classList.remove('colab-df-spinner');\n",
              "          quickchartButtonEl.classList.add('colab-df-quickchart-complete');\n",
              "        }\n",
              "        (() => {\n",
              "          let quickchartButtonEl =\n",
              "            document.querySelector('#df-1153ecbc-65ad-4235-8ea8-09df75352355 button');\n",
              "          quickchartButtonEl.style.display =\n",
              "            google.colab.kernel.accessAllowed ? 'block' : 'none';\n",
              "        })();\n",
              "      </script>\n",
              "    </div>\n",
              "\n",
              "    </div>\n",
              "  </div>\n"
            ],
            "application/vnd.google.colaboratory.intrinsic+json": {
              "type": "dataframe",
              "summary": "{\n  \"name\": \"eq3_train_logk\",\n  \"rows\": 5,\n  \"fields\": [\n    {\n      \"column\": \"Guest\",\n      \"properties\": {\n        \"dtype\": \"number\",\n        \"std\": 1,\n        \"min\": 50,\n        \"max\": 54,\n        \"num_unique_values\": 5,\n        \"samples\": [\n          51,\n          54,\n          52\n        ],\n        \"semantic_type\": \"\",\n        \"description\": \"\"\n      }\n    },\n    {\n      \"column\": \"logKexpt\",\n      \"properties\": {\n        \"dtype\": \"number\",\n        \"std\": 0.7329938608201298,\n        \"min\": 0.48,\n        \"max\": 2.3,\n        \"num_unique_values\": 4,\n        \"samples\": [\n          0.48,\n          0.9,\n          2.3\n        ],\n        \"semantic_type\": \"\",\n        \"description\": \"\"\n      }\n    },\n    {\n      \"column\": \"logKcalc\",\n      \"properties\": {\n        \"dtype\": \"number\",\n        \"std\": 0.8866961147992023,\n        \"min\": 1.41,\n        \"max\": 3.66,\n        \"num_unique_values\": 5,\n        \"samples\": [\n          2.29,\n          1.41,\n          2.19\n        ],\n        \"semantic_type\": \"\",\n        \"description\": \"\"\n      }\n    }\n  ]\n}"
            }
          },
          "metadata": {},
          "execution_count": 14
        }
      ],
      "source": [
        "eq3_train_logk = dtran.DataTransform.df_reshape_one(eq3_train_logk,3)\n",
        "eq3_train_logk.tail()"
      ]
    },
    {
      "cell_type": "code",
      "source": [
        "eq3_test_logk= rdc.RDSDatabaseConnector.csv_load('eq3_test_lit_logk.txt', ' ')"
      ],
      "metadata": {
        "colab": {
          "base_uri": "https://localhost:8080/"
        },
        "id": "Co2h6ZeT9rjn",
        "outputId": "d3946f81-7ecc-4455-a026-5405a0aeb2ab"
      },
      "id": "Co2h6ZeT9rjn",
      "execution_count": 15,
      "outputs": [
        {
          "output_type": "stream",
          "name": "stdout",
          "text": [
            "our df\n",
            "   Guest  logKexpt  logKcalc  Guest.1  logKexpt.1  logKcalc.1\n",
            "0     55      6.80      7.12     63.0        4.45        4.10\n",
            "1     56      8.00      6.35     64.0        4.18        4.06\n",
            "2     57      7.26      6.29     65.0        4.20        4.02\n",
            "3     58      6.06      6.00     66.0        4.11        4.08\n",
            "4     59      6.09      5.74     67.0        3.60        3.24\n"
          ]
        }
      ]
    },
    {
      "cell_type": "code",
      "source": [
        "eq3_test_logk = dtran.DataTransform.df_reshape_one(eq3_test_logk,3)\n",
        "eq3_test_logk.tail()"
      ],
      "metadata": {
        "colab": {
          "base_uri": "https://localhost:8080/",
          "height": 223
        },
        "id": "VxgXjcDw9yJB",
        "outputId": "a4f197bd-a17f-4f7c-e6dd-3fea09210856"
      },
      "id": "VxgXjcDw9yJB",
      "execution_count": 16,
      "outputs": [
        {
          "output_type": "stream",
          "name": "stdout",
          "text": [
            "2\n"
          ]
        },
        {
          "output_type": "execute_result",
          "data": {
            "text/plain": [
              "    Guest  logKexpt  logKcalc\n",
              "10   65.0      4.20      4.02\n",
              "11   66.0      4.11      4.08\n",
              "12   67.0      3.60      3.24\n",
              "13   68.0      1.11      0.88\n",
              "14   69.0      3.40      2.51"
            ],
            "text/html": [
              "\n",
              "  <div id=\"df-059bbacf-ebe1-46ce-8588-7c4a1cf9f720\" class=\"colab-df-container\">\n",
              "    <div>\n",
              "<style scoped>\n",
              "    .dataframe tbody tr th:only-of-type {\n",
              "        vertical-align: middle;\n",
              "    }\n",
              "\n",
              "    .dataframe tbody tr th {\n",
              "        vertical-align: top;\n",
              "    }\n",
              "\n",
              "    .dataframe thead th {\n",
              "        text-align: right;\n",
              "    }\n",
              "</style>\n",
              "<table border=\"1\" class=\"dataframe\">\n",
              "  <thead>\n",
              "    <tr style=\"text-align: right;\">\n",
              "      <th></th>\n",
              "      <th>Guest</th>\n",
              "      <th>logKexpt</th>\n",
              "      <th>logKcalc</th>\n",
              "    </tr>\n",
              "  </thead>\n",
              "  <tbody>\n",
              "    <tr>\n",
              "      <th>10</th>\n",
              "      <td>65.0</td>\n",
              "      <td>4.20</td>\n",
              "      <td>4.02</td>\n",
              "    </tr>\n",
              "    <tr>\n",
              "      <th>11</th>\n",
              "      <td>66.0</td>\n",
              "      <td>4.11</td>\n",
              "      <td>4.08</td>\n",
              "    </tr>\n",
              "    <tr>\n",
              "      <th>12</th>\n",
              "      <td>67.0</td>\n",
              "      <td>3.60</td>\n",
              "      <td>3.24</td>\n",
              "    </tr>\n",
              "    <tr>\n",
              "      <th>13</th>\n",
              "      <td>68.0</td>\n",
              "      <td>1.11</td>\n",
              "      <td>0.88</td>\n",
              "    </tr>\n",
              "    <tr>\n",
              "      <th>14</th>\n",
              "      <td>69.0</td>\n",
              "      <td>3.40</td>\n",
              "      <td>2.51</td>\n",
              "    </tr>\n",
              "  </tbody>\n",
              "</table>\n",
              "</div>\n",
              "    <div class=\"colab-df-buttons\">\n",
              "\n",
              "  <div class=\"colab-df-container\">\n",
              "    <button class=\"colab-df-convert\" onclick=\"convertToInteractive('df-059bbacf-ebe1-46ce-8588-7c4a1cf9f720')\"\n",
              "            title=\"Convert this dataframe to an interactive table.\"\n",
              "            style=\"display:none;\">\n",
              "\n",
              "  <svg xmlns=\"http://www.w3.org/2000/svg\" height=\"24px\" viewBox=\"0 -960 960 960\">\n",
              "    <path d=\"M120-120v-720h720v720H120Zm60-500h600v-160H180v160Zm220 220h160v-160H400v160Zm0 220h160v-160H400v160ZM180-400h160v-160H180v160Zm440 0h160v-160H620v160ZM180-180h160v-160H180v160Zm440 0h160v-160H620v160Z\"/>\n",
              "  </svg>\n",
              "    </button>\n",
              "\n",
              "  <style>\n",
              "    .colab-df-container {\n",
              "      display:flex;\n",
              "      gap: 12px;\n",
              "    }\n",
              "\n",
              "    .colab-df-convert {\n",
              "      background-color: #E8F0FE;\n",
              "      border: none;\n",
              "      border-radius: 50%;\n",
              "      cursor: pointer;\n",
              "      display: none;\n",
              "      fill: #1967D2;\n",
              "      height: 32px;\n",
              "      padding: 0 0 0 0;\n",
              "      width: 32px;\n",
              "    }\n",
              "\n",
              "    .colab-df-convert:hover {\n",
              "      background-color: #E2EBFA;\n",
              "      box-shadow: 0px 1px 2px rgba(60, 64, 67, 0.3), 0px 1px 3px 1px rgba(60, 64, 67, 0.15);\n",
              "      fill: #174EA6;\n",
              "    }\n",
              "\n",
              "    .colab-df-buttons div {\n",
              "      margin-bottom: 4px;\n",
              "    }\n",
              "\n",
              "    [theme=dark] .colab-df-convert {\n",
              "      background-color: #3B4455;\n",
              "      fill: #D2E3FC;\n",
              "    }\n",
              "\n",
              "    [theme=dark] .colab-df-convert:hover {\n",
              "      background-color: #434B5C;\n",
              "      box-shadow: 0px 1px 3px 1px rgba(0, 0, 0, 0.15);\n",
              "      filter: drop-shadow(0px 1px 2px rgba(0, 0, 0, 0.3));\n",
              "      fill: #FFFFFF;\n",
              "    }\n",
              "  </style>\n",
              "\n",
              "    <script>\n",
              "      const buttonEl =\n",
              "        document.querySelector('#df-059bbacf-ebe1-46ce-8588-7c4a1cf9f720 button.colab-df-convert');\n",
              "      buttonEl.style.display =\n",
              "        google.colab.kernel.accessAllowed ? 'block' : 'none';\n",
              "\n",
              "      async function convertToInteractive(key) {\n",
              "        const element = document.querySelector('#df-059bbacf-ebe1-46ce-8588-7c4a1cf9f720');\n",
              "        const dataTable =\n",
              "          await google.colab.kernel.invokeFunction('convertToInteractive',\n",
              "                                                    [key], {});\n",
              "        if (!dataTable) return;\n",
              "\n",
              "        const docLinkHtml = 'Like what you see? Visit the ' +\n",
              "          '<a target=\"_blank\" href=https://colab.research.google.com/notebooks/data_table.ipynb>data table notebook</a>'\n",
              "          + ' to learn more about interactive tables.';\n",
              "        element.innerHTML = '';\n",
              "        dataTable['output_type'] = 'display_data';\n",
              "        await google.colab.output.renderOutput(dataTable, element);\n",
              "        const docLink = document.createElement('div');\n",
              "        docLink.innerHTML = docLinkHtml;\n",
              "        element.appendChild(docLink);\n",
              "      }\n",
              "    </script>\n",
              "  </div>\n",
              "\n",
              "\n",
              "    <div id=\"df-7b03ff51-5b3f-444b-9f17-04ed3211eb85\">\n",
              "      <button class=\"colab-df-quickchart\" onclick=\"quickchart('df-7b03ff51-5b3f-444b-9f17-04ed3211eb85')\"\n",
              "                title=\"Suggest charts\"\n",
              "                style=\"display:none;\">\n",
              "\n",
              "<svg xmlns=\"http://www.w3.org/2000/svg\" height=\"24px\"viewBox=\"0 0 24 24\"\n",
              "     width=\"24px\">\n",
              "    <g>\n",
              "        <path d=\"M19 3H5c-1.1 0-2 .9-2 2v14c0 1.1.9 2 2 2h14c1.1 0 2-.9 2-2V5c0-1.1-.9-2-2-2zM9 17H7v-7h2v7zm4 0h-2V7h2v10zm4 0h-2v-4h2v4z\"/>\n",
              "    </g>\n",
              "</svg>\n",
              "      </button>\n",
              "\n",
              "<style>\n",
              "  .colab-df-quickchart {\n",
              "      --bg-color: #E8F0FE;\n",
              "      --fill-color: #1967D2;\n",
              "      --hover-bg-color: #E2EBFA;\n",
              "      --hover-fill-color: #174EA6;\n",
              "      --disabled-fill-color: #AAA;\n",
              "      --disabled-bg-color: #DDD;\n",
              "  }\n",
              "\n",
              "  [theme=dark] .colab-df-quickchart {\n",
              "      --bg-color: #3B4455;\n",
              "      --fill-color: #D2E3FC;\n",
              "      --hover-bg-color: #434B5C;\n",
              "      --hover-fill-color: #FFFFFF;\n",
              "      --disabled-bg-color: #3B4455;\n",
              "      --disabled-fill-color: #666;\n",
              "  }\n",
              "\n",
              "  .colab-df-quickchart {\n",
              "    background-color: var(--bg-color);\n",
              "    border: none;\n",
              "    border-radius: 50%;\n",
              "    cursor: pointer;\n",
              "    display: none;\n",
              "    fill: var(--fill-color);\n",
              "    height: 32px;\n",
              "    padding: 0;\n",
              "    width: 32px;\n",
              "  }\n",
              "\n",
              "  .colab-df-quickchart:hover {\n",
              "    background-color: var(--hover-bg-color);\n",
              "    box-shadow: 0 1px 2px rgba(60, 64, 67, 0.3), 0 1px 3px 1px rgba(60, 64, 67, 0.15);\n",
              "    fill: var(--button-hover-fill-color);\n",
              "  }\n",
              "\n",
              "  .colab-df-quickchart-complete:disabled,\n",
              "  .colab-df-quickchart-complete:disabled:hover {\n",
              "    background-color: var(--disabled-bg-color);\n",
              "    fill: var(--disabled-fill-color);\n",
              "    box-shadow: none;\n",
              "  }\n",
              "\n",
              "  .colab-df-spinner {\n",
              "    border: 2px solid var(--fill-color);\n",
              "    border-color: transparent;\n",
              "    border-bottom-color: var(--fill-color);\n",
              "    animation:\n",
              "      spin 1s steps(1) infinite;\n",
              "  }\n",
              "\n",
              "  @keyframes spin {\n",
              "    0% {\n",
              "      border-color: transparent;\n",
              "      border-bottom-color: var(--fill-color);\n",
              "      border-left-color: var(--fill-color);\n",
              "    }\n",
              "    20% {\n",
              "      border-color: transparent;\n",
              "      border-left-color: var(--fill-color);\n",
              "      border-top-color: var(--fill-color);\n",
              "    }\n",
              "    30% {\n",
              "      border-color: transparent;\n",
              "      border-left-color: var(--fill-color);\n",
              "      border-top-color: var(--fill-color);\n",
              "      border-right-color: var(--fill-color);\n",
              "    }\n",
              "    40% {\n",
              "      border-color: transparent;\n",
              "      border-right-color: var(--fill-color);\n",
              "      border-top-color: var(--fill-color);\n",
              "    }\n",
              "    60% {\n",
              "      border-color: transparent;\n",
              "      border-right-color: var(--fill-color);\n",
              "    }\n",
              "    80% {\n",
              "      border-color: transparent;\n",
              "      border-right-color: var(--fill-color);\n",
              "      border-bottom-color: var(--fill-color);\n",
              "    }\n",
              "    90% {\n",
              "      border-color: transparent;\n",
              "      border-bottom-color: var(--fill-color);\n",
              "    }\n",
              "  }\n",
              "</style>\n",
              "\n",
              "      <script>\n",
              "        async function quickchart(key) {\n",
              "          const quickchartButtonEl =\n",
              "            document.querySelector('#' + key + ' button');\n",
              "          quickchartButtonEl.disabled = true;  // To prevent multiple clicks.\n",
              "          quickchartButtonEl.classList.add('colab-df-spinner');\n",
              "          try {\n",
              "            const charts = await google.colab.kernel.invokeFunction(\n",
              "                'suggestCharts', [key], {});\n",
              "          } catch (error) {\n",
              "            console.error('Error during call to suggestCharts:', error);\n",
              "          }\n",
              "          quickchartButtonEl.classList.remove('colab-df-spinner');\n",
              "          quickchartButtonEl.classList.add('colab-df-quickchart-complete');\n",
              "        }\n",
              "        (() => {\n",
              "          let quickchartButtonEl =\n",
              "            document.querySelector('#df-7b03ff51-5b3f-444b-9f17-04ed3211eb85 button');\n",
              "          quickchartButtonEl.style.display =\n",
              "            google.colab.kernel.accessAllowed ? 'block' : 'none';\n",
              "        })();\n",
              "      </script>\n",
              "    </div>\n",
              "\n",
              "    </div>\n",
              "  </div>\n"
            ],
            "application/vnd.google.colaboratory.intrinsic+json": {
              "type": "dataframe",
              "summary": "{\n  \"name\": \"eq3_test_logk\",\n  \"rows\": 5,\n  \"fields\": [\n    {\n      \"column\": \"Guest\",\n      \"properties\": {\n        \"dtype\": \"number\",\n        \"std\": 1.5811388300841898,\n        \"min\": 65.0,\n        \"max\": 69.0,\n        \"num_unique_values\": 5,\n        \"samples\": [\n          66.0,\n          69.0,\n          67.0\n        ],\n        \"semantic_type\": \"\",\n        \"description\": \"\"\n      }\n    },\n    {\n      \"column\": \"logKexpt\",\n      \"properties\": {\n        \"dtype\": \"number\",\n        \"std\": 1.2610432189262983,\n        \"min\": 1.11,\n        \"max\": 4.2,\n        \"num_unique_values\": 5,\n        \"samples\": [\n          4.11,\n          3.4,\n          3.6\n        ],\n        \"semantic_type\": \"\",\n        \"description\": \"\"\n      }\n    },\n    {\n      \"column\": \"logKcalc\",\n      \"properties\": {\n        \"dtype\": \"number\",\n        \"std\": 1.3213932041599123,\n        \"min\": 0.88,\n        \"max\": 4.08,\n        \"num_unique_values\": 5,\n        \"samples\": [\n          4.08,\n          2.51,\n          3.24\n        ],\n        \"semantic_type\": \"\",\n        \"description\": \"\"\n      }\n    }\n  ]\n}"
            }
          },
          "metadata": {},
          "execution_count": 16
        }
      ]
    },
    {
      "cell_type": "markdown",
      "id": "98384184",
      "metadata": {
        "id": "98384184"
      },
      "source": [
        "### Comparision of logKexp and ChemPLP_Score for training set from the manuscript"
      ]
    },
    {
      "cell_type": "code",
      "execution_count": 17,
      "id": "07b38b10",
      "metadata": {
        "colab": {
          "base_uri": "https://localhost:8080/",
          "height": 406
        },
        "id": "07b38b10",
        "outputId": "782bb830-e321-430a-d0b0-ab32607ba118"
      },
      "outputs": [
        {
          "output_type": "display_data",
          "data": {
            "text/plain": [
              "<Figure size 400x400 with 1 Axes>"
            ],
            "image/png": "[encoded data removed]"
          },
          "metadata": {}
        }
      ],
      "source": [
        "plotter.Plotter.hg_scatter_plt_tl(chemplp_score, 1, 2)"
      ]
    },
    {
      "cell_type": "markdown",
      "id": "f0c20a77",
      "metadata": {
        "id": "f0c20a77"
      },
      "source": [
        "### Multivariate linear regression on the training set from the manuscript using eq. 2"
      ]
    },
    {
      "cell_type": "code",
      "execution_count": 18,
      "id": "4137c0a2",
      "metadata": {
        "colab": {
          "base_uri": "https://localhost:8080/",
          "height": 442
        },
        "id": "4137c0a2",
        "outputId": "ebec4ba7-6bbf-4b29-c160-62a9ca375441"
      },
      "outputs": [
        {
          "output_type": "stream",
          "name": "stdout",
          "text": [
            "Coefficients = [-4.29538085 -2.3586354   0.23377324 -0.05860376]\n",
            "RMSE: 1.659942336493641\n"
          ]
        },
        {
          "output_type": "display_data",
          "data": {
            "text/plain": [
              "<Figure size 400x400 with 1 Axes>"
            ],
            "image/png": "[encoded data removed]"
          },
          "metadata": {}
        }
      ],
      "source": [
        "y_train = eq3_train_logk.iloc[:54,1]\n",
        "x_train = np.array(tab_gold_wt.iloc[:54,1:5])\n",
        "model = LinearRegression().fit(x_train, y_train)\n",
        "y_pred = model.predict(pd.DataFrame(x_train))\n",
        "coeff = model.coef_\n",
        "print(f'Coefficients = {coeff}')\n",
        "print(f'RMSE: {root_mean_squared_error(y_train, y_pred)}')\n",
        "plotter.Plotter.hg_scatter_mod_tl(y_train, y_pred, \"logKexpt\", \"logKcalc\")\n",
        "\n",
        "\n"
      ]
    },
    {
      "cell_type": "markdown",
      "id": "cba80c35",
      "metadata": {
        "id": "cba80c35"
      },
      "source": [
        "### Multivariate linear regression on the training set from the manuscript using eq. 3"
      ]
    },
    {
      "cell_type": "code",
      "execution_count": 19,
      "id": "242ba604",
      "metadata": {
        "colab": {
          "base_uri": "https://localhost:8080/",
          "height": 442
        },
        "id": "242ba604",
        "outputId": "648f0b52-8b4c-49a1-a904-3c824ba28969"
      },
      "outputs": [
        {
          "output_type": "stream",
          "name": "stdout",
          "text": [
            "Coefficients = [-2.55758937  0.4843824  -0.17864573 -0.15504664 -0.99953168]\n",
            "RMSE: 0.7415595482366735\n"
          ]
        },
        {
          "output_type": "display_data",
          "data": {
            "text/plain": [
              "<Figure size 400x400 with 1 Axes>"
            ],
            "image/png": "[encoded data removed]"
          },
          "metadata": {}
        }
      ],
      "source": [
        "y_train = eq3_train_logk.iloc[:54,1]\n",
        "x_train = np.array(tab_gold_wt.iloc[:54,1:])\n",
        "model = LinearRegression().fit(x_train, y_train)\n",
        "y_pred = model.predict(pd.DataFrame(x_train))\n",
        "coeff = model.coef_\n",
        "print(f'Coefficients = {coeff}')\n",
        "print(f'RMSE: {root_mean_squared_error(y_train, y_pred)}')\n",
        "plotter.Plotter.hg_scatter_mod_tl(y_train, y_pred, \"logKexpt\", \"logKcalc\")"
      ]
    },
    {
      "cell_type": "markdown",
      "id": "c440514e",
      "metadata": {
        "id": "c440514e"
      },
      "source": [
        "### Analysis of new guests from the manuscripts"
      ]
    },
    {
      "cell_type": "code",
      "execution_count": 20,
      "id": "430d3615",
      "metadata": {
        "colab": {
          "base_uri": "https://localhost:8080/",
          "height": 424
        },
        "id": "430d3615",
        "outputId": "2a8ed0af-31ba-464f-e7d2-4597fefc6843"
      },
      "outputs": [
        {
          "output_type": "stream",
          "name": "stdout",
          "text": [
            "RMSE: 0.7180619986113516\n"
          ]
        },
        {
          "output_type": "display_data",
          "data": {
            "text/plain": [
              "<Figure size 400x400 with 1 Axes>"
            ],
            "image/png": "[encoded data removed]"
          },
          "metadata": {}
        }
      ],
      "source": [
        "# get GoldPLP functions from the new guests  as an array\n",
        "x_new = np.array(tab_gold_wt.iloc[54:,1:])\n",
        "# predict logKcalc for new guests using our models\n",
        "y_new_pred = model.predict(pd.DataFrame(x_new))\n",
        "#  turn logKexp for new guests into an array\n",
        "y_known = np.array(eq3_test_logk.iloc[:,1:2])\n",
        "# Calculate RMSE for new guest and plot\n",
        "print(f'RMSE: {root_mean_squared_error(y_known, y_new_pred)}')\n",
        "plotter.Plotter.hg_scatter_mod_tl(y_known, y_new_pred, \"logKexpt\", \"logKcalc\")"
      ]
    },
    {
      "cell_type": "markdown",
      "id": "d9557c93",
      "metadata": {
        "id": "d9557c93"
      },
      "source": [
        "## A current data science approach to this data set"
      ]
    },
    {
      "cell_type": "code",
      "execution_count": 21,
      "id": "7a4387d2",
      "metadata": {
        "colab": {
          "base_uri": "https://localhost:8080/",
          "height": 206
        },
        "id": "7a4387d2",
        "outputId": "5674b5bc-bbc8-4fac-8b61-69fe1162f4ad"
      },
      "outputs": [
        {
          "output_type": "execute_result",
          "data": {
            "text/plain": [
              "    Guest  logKexpt\n",
              "64   65.0      4.20\n",
              "65   66.0      4.11\n",
              "66   67.0      3.60\n",
              "67   68.0      1.11\n",
              "68   69.0      3.40"
            ],
            "text/html": [
              "\n",
              "  <div id=\"df-d4ddc91e-243d-45dc-90c6-cb712bf21cc3\" class=\"colab-df-container\">\n",
              "    <div>\n",
              "<style scoped>\n",
              "    .dataframe tbody tr th:only-of-type {\n",
              "        vertical-align: middle;\n",
              "    }\n",
              "\n",
              "    .dataframe tbody tr th {\n",
              "        vertical-align: top;\n",
              "    }\n",
              "\n",
              "    .dataframe thead th {\n",
              "        text-align: right;\n",
              "    }\n",
              "</style>\n",
              "<table border=\"1\" class=\"dataframe\">\n",
              "  <thead>\n",
              "    <tr style=\"text-align: right;\">\n",
              "      <th></th>\n",
              "      <th>Guest</th>\n",
              "      <th>logKexpt</th>\n",
              "    </tr>\n",
              "  </thead>\n",
              "  <tbody>\n",
              "    <tr>\n",
              "      <th>64</th>\n",
              "      <td>65.0</td>\n",
              "      <td>4.20</td>\n",
              "    </tr>\n",
              "    <tr>\n",
              "      <th>65</th>\n",
              "      <td>66.0</td>\n",
              "      <td>4.11</td>\n",
              "    </tr>\n",
              "    <tr>\n",
              "      <th>66</th>\n",
              "      <td>67.0</td>\n",
              "      <td>3.60</td>\n",
              "    </tr>\n",
              "    <tr>\n",
              "      <th>67</th>\n",
              "      <td>68.0</td>\n",
              "      <td>1.11</td>\n",
              "    </tr>\n",
              "    <tr>\n",
              "      <th>68</th>\n",
              "      <td>69.0</td>\n",
              "      <td>3.40</td>\n",
              "    </tr>\n",
              "  </tbody>\n",
              "</table>\n",
              "</div>\n",
              "    <div class=\"colab-df-buttons\">\n",
              "\n",
              "  <div class=\"colab-df-container\">\n",
              "    <button class=\"colab-df-convert\" onclick=\"convertToInteractive('df-d4ddc91e-243d-45dc-90c6-cb712bf21cc3')\"\n",
              "            title=\"Convert this dataframe to an interactive table.\"\n",
              "            style=\"display:none;\">\n",
              "\n",
              "  <svg xmlns=\"http://www.w3.org/2000/svg\" height=\"24px\" viewBox=\"0 -960 960 960\">\n",
              "    <path d=\"M120-120v-720h720v720H120Zm60-500h600v-160H180v160Zm220 220h160v-160H400v160Zm0 220h160v-160H400v160ZM180-400h160v-160H180v160Zm440 0h160v-160H620v160ZM180-180h160v-160H180v160Zm440 0h160v-160H620v160Z\"/>\n",
              "  </svg>\n",
              "    </button>\n",
              "\n",
              "  <style>\n",
              "    .colab-df-container {\n",
              "      display:flex;\n",
              "      gap: 12px;\n",
              "    }\n",
              "\n",
              "    .colab-df-convert {\n",
              "      background-color: #E8F0FE;\n",
              "      border: none;\n",
              "      border-radius: 50%;\n",
              "      cursor: pointer;\n",
              "      display: none;\n",
              "      fill: #1967D2;\n",
              "      height: 32px;\n",
              "      padding: 0 0 0 0;\n",
              "      width: 32px;\n",
              "    }\n",
              "\n",
              "    .colab-df-convert:hover {\n",
              "      background-color: #E2EBFA;\n",
              "      box-shadow: 0px 1px 2px rgba(60, 64, 67, 0.3), 0px 1px 3px 1px rgba(60, 64, 67, 0.15);\n",
              "      fill: #174EA6;\n",
              "    }\n",
              "\n",
              "    .colab-df-buttons div {\n",
              "      margin-bottom: 4px;\n",
              "    }\n",
              "\n",
              "    [theme=dark] .colab-df-convert {\n",
              "      background-color: #3B4455;\n",
              "      fill: #D2E3FC;\n",
              "    }\n",
              "\n",
              "    [theme=dark] .colab-df-convert:hover {\n",
              "      background-color: #434B5C;\n",
              "      box-shadow: 0px 1px 3px 1px rgba(0, 0, 0, 0.15);\n",
              "      filter: drop-shadow(0px 1px 2px rgba(0, 0, 0, 0.3));\n",
              "      fill: #FFFFFF;\n",
              "    }\n",
              "  </style>\n",
              "\n",
              "    <script>\n",
              "      const buttonEl =\n",
              "        document.querySelector('#df-d4ddc91e-243d-45dc-90c6-cb712bf21cc3 button.colab-df-convert');\n",
              "      buttonEl.style.display =\n",
              "        google.colab.kernel.accessAllowed ? 'block' : 'none';\n",
              "\n",
              "      async function convertToInteractive(key) {\n",
              "        const element = document.querySelector('#df-d4ddc91e-243d-45dc-90c6-cb712bf21cc3');\n",
              "        const dataTable =\n",
              "          await google.colab.kernel.invokeFunction('convertToInteractive',\n",
              "                                                    [key], {});\n",
              "        if (!dataTable) return;\n",
              "\n",
              "        const docLinkHtml = 'Like what you see? Visit the ' +\n",
              "          '<a target=\"_blank\" href=https://colab.research.google.com/notebooks/data_table.ipynb>data table notebook</a>'\n",
              "          + ' to learn more about interactive tables.';\n",
              "        element.innerHTML = '';\n",
              "        dataTable['output_type'] = 'display_data';\n",
              "        await google.colab.output.renderOutput(dataTable, element);\n",
              "        const docLink = document.createElement('div');\n",
              "        docLink.innerHTML = docLinkHtml;\n",
              "        element.appendChild(docLink);\n",
              "      }\n",
              "    </script>\n",
              "  </div>\n",
              "\n",
              "\n",
              "    <div id=\"df-7c8d8cc8-bb8a-4794-b774-dc2fbb7b208d\">\n",
              "      <button class=\"colab-df-quickchart\" onclick=\"quickchart('df-7c8d8cc8-bb8a-4794-b774-dc2fbb7b208d')\"\n",
              "                title=\"Suggest charts\"\n",
              "                style=\"display:none;\">\n",
              "\n",
              "<svg xmlns=\"http://www.w3.org/2000/svg\" height=\"24px\"viewBox=\"0 0 24 24\"\n",
              "     width=\"24px\">\n",
              "    <g>\n",
              "        <path d=\"M19 3H5c-1.1 0-2 .9-2 2v14c0 1.1.9 2 2 2h14c1.1 0 2-.9 2-2V5c0-1.1-.9-2-2-2zM9 17H7v-7h2v7zm4 0h-2V7h2v10zm4 0h-2v-4h2v4z\"/>\n",
              "    </g>\n",
              "</svg>\n",
              "      </button>\n",
              "\n",
              "<style>\n",
              "  .colab-df-quickchart {\n",
              "      --bg-color: #E8F0FE;\n",
              "      --fill-color: #1967D2;\n",
              "      --hover-bg-color: #E2EBFA;\n",
              "      --hover-fill-color: #174EA6;\n",
              "      --disabled-fill-color: #AAA;\n",
              "      --disabled-bg-color: #DDD;\n",
              "  }\n",
              "\n",
              "  [theme=dark] .colab-df-quickchart {\n",
              "      --bg-color: #3B4455;\n",
              "      --fill-color: #D2E3FC;\n",
              "      --hover-bg-color: #434B5C;\n",
              "      --hover-fill-color: #FFFFFF;\n",
              "      --disabled-bg-color: #3B4455;\n",
              "      --disabled-fill-color: #666;\n",
              "  }\n",
              "\n",
              "  .colab-df-quickchart {\n",
              "    background-color: var(--bg-color);\n",
              "    border: none;\n",
              "    border-radius: 50%;\n",
              "    cursor: pointer;\n",
              "    display: none;\n",
              "    fill: var(--fill-color);\n",
              "    height: 32px;\n",
              "    padding: 0;\n",
              "    width: 32px;\n",
              "  }\n",
              "\n",
              "  .colab-df-quickchart:hover {\n",
              "    background-color: var(--hover-bg-color);\n",
              "    box-shadow: 0 1px 2px rgba(60, 64, 67, 0.3), 0 1px 3px 1px rgba(60, 64, 67, 0.15);\n",
              "    fill: var(--button-hover-fill-color);\n",
              "  }\n",
              "\n",
              "  .colab-df-quickchart-complete:disabled,\n",
              "  .colab-df-quickchart-complete:disabled:hover {\n",
              "    background-color: var(--disabled-bg-color);\n",
              "    fill: var(--disabled-fill-color);\n",
              "    box-shadow: none;\n",
              "  }\n",
              "\n",
              "  .colab-df-spinner {\n",
              "    border: 2px solid var(--fill-color);\n",
              "    border-color: transparent;\n",
              "    border-bottom-color: var(--fill-color);\n",
              "    animation:\n",
              "      spin 1s steps(1) infinite;\n",
              "  }\n",
              "\n",
              "  @keyframes spin {\n",
              "    0% {\n",
              "      border-color: transparent;\n",
              "      border-bottom-color: var(--fill-color);\n",
              "      border-left-color: var(--fill-color);\n",
              "    }\n",
              "    20% {\n",
              "      border-color: transparent;\n",
              "      border-left-color: var(--fill-color);\n",
              "      border-top-color: var(--fill-color);\n",
              "    }\n",
              "    30% {\n",
              "      border-color: transparent;\n",
              "      border-left-color: var(--fill-color);\n",
              "      border-top-color: var(--fill-color);\n",
              "      border-right-color: var(--fill-color);\n",
              "    }\n",
              "    40% {\n",
              "      border-color: transparent;\n",
              "      border-right-color: var(--fill-color);\n",
              "      border-top-color: var(--fill-color);\n",
              "    }\n",
              "    60% {\n",
              "      border-color: transparent;\n",
              "      border-right-color: var(--fill-color);\n",
              "    }\n",
              "    80% {\n",
              "      border-color: transparent;\n",
              "      border-right-color: var(--fill-color);\n",
              "      border-bottom-color: var(--fill-color);\n",
              "    }\n",
              "    90% {\n",
              "      border-color: transparent;\n",
              "      border-bottom-color: var(--fill-color);\n",
              "    }\n",
              "  }\n",
              "</style>\n",
              "\n",
              "      <script>\n",
              "        async function quickchart(key) {\n",
              "          const quickchartButtonEl =\n",
              "            document.querySelector('#' + key + ' button');\n",
              "          quickchartButtonEl.disabled = true;  // To prevent multiple clicks.\n",
              "          quickchartButtonEl.classList.add('colab-df-spinner');\n",
              "          try {\n",
              "            const charts = await google.colab.kernel.invokeFunction(\n",
              "                'suggestCharts', [key], {});\n",
              "          } catch (error) {\n",
              "            console.error('Error during call to suggestCharts:', error);\n",
              "          }\n",
              "          quickchartButtonEl.classList.remove('colab-df-spinner');\n",
              "          quickchartButtonEl.classList.add('colab-df-quickchart-complete');\n",
              "        }\n",
              "        (() => {\n",
              "          let quickchartButtonEl =\n",
              "            document.querySelector('#df-7c8d8cc8-bb8a-4794-b774-dc2fbb7b208d button');\n",
              "          quickchartButtonEl.style.display =\n",
              "            google.colab.kernel.accessAllowed ? 'block' : 'none';\n",
              "        })();\n",
              "      </script>\n",
              "    </div>\n",
              "\n",
              "    </div>\n",
              "  </div>\n"
            ],
            "application/vnd.google.colaboratory.intrinsic+json": {
              "type": "dataframe",
              "summary": "{\n  \"name\": \"all_logKexp\",\n  \"rows\": 5,\n  \"fields\": [\n    {\n      \"column\": \"Guest\",\n      \"properties\": {\n        \"dtype\": \"number\",\n        \"std\": 1.5811388300841898,\n        \"min\": 65.0,\n        \"max\": 69.0,\n        \"num_unique_values\": 5,\n        \"samples\": [\n          66.0,\n          69.0,\n          67.0\n        ],\n        \"semantic_type\": \"\",\n        \"description\": \"\"\n      }\n    },\n    {\n      \"column\": \"logKexpt\",\n      \"properties\": {\n        \"dtype\": \"number\",\n        \"std\": 1.2610432189262983,\n        \"min\": 1.11,\n        \"max\": 4.2,\n        \"num_unique_values\": 5,\n        \"samples\": [\n          4.11,\n          3.4,\n          3.6\n        ],\n        \"semantic_type\": \"\",\n        \"description\": \"\"\n      }\n    }\n  ]\n}"
            }
          },
          "metadata": {},
          "execution_count": 21
        }
      ],
      "source": [
        "#buld a df for all guest logKexp\n",
        "exp_cols = [ eq3_train_logk.iloc[:,0:2] , eq3_test_logk.iloc[:,0:2]]\n",
        "all_logKexp = pd.concat(exp_cols)\n",
        "all_logKexp = all_logKexp.reset_index(drop=True)\n",
        "all_logKexp.tail()"
      ]
    },
    {
      "cell_type": "markdown",
      "id": "80c15f67",
      "metadata": {
        "id": "80c15f67"
      },
      "source": [
        "### Run some exploratory data analysis"
      ]
    },
    {
      "cell_type": "code",
      "execution_count": 22,
      "id": "be61678d",
      "metadata": {
        "colab": {
          "base_uri": "https://localhost:8080/",
          "height": 206
        },
        "id": "be61678d",
        "outputId": "42e1de1b-f725-43cd-a3f2-58d9a8cee67b"
      },
      "outputs": [
        {
          "output_type": "execute_result",
          "data": {
            "text/plain": [
              "    Guest  Ligand_clash  Ligand_torsion  Part_buried  Non-polar  \\\n",
              "64     65           0.0          0.0000      -0.5568   -40.2497   \n",
              "65     66           0.0          0.0000      -0.5162   -49.7484   \n",
              "66     67           0.0          0.0000      -1.7830   -35.1129   \n",
              "67     68           0.0          0.0812      -3.8245   -33.5117   \n",
              "68     69           0.0          0.0011      -3.8230   -41.0994   \n",
              "\n",
              "    Ligand_flexibility  \n",
              "64                   0  \n",
              "65                   1  \n",
              "66                   0  \n",
              "67                   2  \n",
              "68                   1  "
            ],
            "text/html": [
              "\n",
              "  <div id=\"df-8c80fedf-6740-4ff2-bb10-04e8b6ef5845\" class=\"colab-df-container\">\n",
              "    <div>\n",
              "<style scoped>\n",
              "    .dataframe tbody tr th:only-of-type {\n",
              "        vertical-align: middle;\n",
              "    }\n",
              "\n",
              "    .dataframe tbody tr th {\n",
              "        vertical-align: top;\n",
              "    }\n",
              "\n",
              "    .dataframe thead th {\n",
              "        text-align: right;\n",
              "    }\n",
              "</style>\n",
              "<table border=\"1\" class=\"dataframe\">\n",
              "  <thead>\n",
              "    <tr style=\"text-align: right;\">\n",
              "      <th></th>\n",
              "      <th>Guest</th>\n",
              "      <th>Ligand_clash</th>\n",
              "      <th>Ligand_torsion</th>\n",
              "      <th>Part_buried</th>\n",
              "      <th>Non-polar</th>\n",
              "      <th>Ligand_flexibility</th>\n",
              "    </tr>\n",
              "  </thead>\n",
              "  <tbody>\n",
              "    <tr>\n",
              "      <th>64</th>\n",
              "      <td>65</td>\n",
              "      <td>0.0</td>\n",
              "      <td>0.0000</td>\n",
              "      <td>-0.5568</td>\n",
              "      <td>-40.2497</td>\n",
              "      <td>0</td>\n",
              "    </tr>\n",
              "    <tr>\n",
              "      <th>65</th>\n",
              "      <td>66</td>\n",
              "      <td>0.0</td>\n",
              "      <td>0.0000</td>\n",
              "      <td>-0.5162</td>\n",
              "      <td>-49.7484</td>\n",
              "      <td>1</td>\n",
              "    </tr>\n",
              "    <tr>\n",
              "      <th>66</th>\n",
              "      <td>67</td>\n",
              "      <td>0.0</td>\n",
              "      <td>0.0000</td>\n",
              "      <td>-1.7830</td>\n",
              "      <td>-35.1129</td>\n",
              "      <td>0</td>\n",
              "    </tr>\n",
              "    <tr>\n",
              "      <th>67</th>\n",
              "      <td>68</td>\n",
              "      <td>0.0</td>\n",
              "      <td>0.0812</td>\n",
              "      <td>-3.8245</td>\n",
              "      <td>-33.5117</td>\n",
              "      <td>2</td>\n",
              "    </tr>\n",
              "    <tr>\n",
              "      <th>68</th>\n",
              "      <td>69</td>\n",
              "      <td>0.0</td>\n",
              "      <td>0.0011</td>\n",
              "      <td>-3.8230</td>\n",
              "      <td>-41.0994</td>\n",
              "      <td>1</td>\n",
              "    </tr>\n",
              "  </tbody>\n",
              "</table>\n",
              "</div>\n",
              "    <div class=\"colab-df-buttons\">\n",
              "\n",
              "  <div class=\"colab-df-container\">\n",
              "    <button class=\"colab-df-convert\" onclick=\"convertToInteractive('df-8c80fedf-6740-4ff2-bb10-04e8b6ef5845')\"\n",
              "            title=\"Convert this dataframe to an interactive table.\"\n",
              "            style=\"display:none;\">\n",
              "\n",
              "  <svg xmlns=\"http://www.w3.org/2000/svg\" height=\"24px\" viewBox=\"0 -960 960 960\">\n",
              "    <path d=\"M120-120v-720h720v720H120Zm60-500h600v-160H180v160Zm220 220h160v-160H400v160Zm0 220h160v-160H400v160ZM180-400h160v-160H180v160Zm440 0h160v-160H620v160ZM180-180h160v-160H180v160Zm440 0h160v-160H620v160Z\"/>\n",
              "  </svg>\n",
              "    </button>\n",
              "\n",
              "  <style>\n",
              "    .colab-df-container {\n",
              "      display:flex;\n",
              "      gap: 12px;\n",
              "    }\n",
              "\n",
              "    .colab-df-convert {\n",
              "      background-color: #E8F0FE;\n",
              "      border: none;\n",
              "      border-radius: 50%;\n",
              "      cursor: pointer;\n",
              "      display: none;\n",
              "      fill: #1967D2;\n",
              "      height: 32px;\n",
              "      padding: 0 0 0 0;\n",
              "      width: 32px;\n",
              "    }\n",
              "\n",
              "    .colab-df-convert:hover {\n",
              "      background-color: #E2EBFA;\n",
              "      box-shadow: 0px 1px 2px rgba(60, 64, 67, 0.3), 0px 1px 3px 1px rgba(60, 64, 67, 0.15);\n",
              "      fill: #174EA6;\n",
              "    }\n",
              "\n",
              "    .colab-df-buttons div {\n",
              "      margin-bottom: 4px;\n",
              "    }\n",
              "\n",
              "    [theme=dark] .colab-df-convert {\n",
              "      background-color: #3B4455;\n",
              "      fill: #D2E3FC;\n",
              "    }\n",
              "\n",
              "    [theme=dark] .colab-df-convert:hover {\n",
              "      background-color: #434B5C;\n",
              "      box-shadow: 0px 1px 3px 1px rgba(0, 0, 0, 0.15);\n",
              "      filter: drop-shadow(0px 1px 2px rgba(0, 0, 0, 0.3));\n",
              "      fill: #FFFFFF;\n",
              "    }\n",
              "  </style>\n",
              "\n",
              "    <script>\n",
              "      const buttonEl =\n",
              "        document.querySelector('#df-8c80fedf-6740-4ff2-bb10-04e8b6ef5845 button.colab-df-convert');\n",
              "      buttonEl.style.display =\n",
              "        google.colab.kernel.accessAllowed ? 'block' : 'none';\n",
              "\n",
              "      async function convertToInteractive(key) {\n",
              "        const element = document.querySelector('#df-8c80fedf-6740-4ff2-bb10-04e8b6ef5845');\n",
              "        const dataTable =\n",
              "          await google.colab.kernel.invokeFunction('convertToInteractive',\n",
              "                                                    [key], {});\n",
              "        if (!dataTable) return;\n",
              "\n",
              "        const docLinkHtml = 'Like what you see? Visit the ' +\n",
              "          '<a target=\"_blank\" href=https://colab.research.google.com/notebooks/data_table.ipynb>data table notebook</a>'\n",
              "          + ' to learn more about interactive tables.';\n",
              "        element.innerHTML = '';\n",
              "        dataTable['output_type'] = 'display_data';\n",
              "        await google.colab.output.renderOutput(dataTable, element);\n",
              "        const docLink = document.createElement('div');\n",
              "        docLink.innerHTML = docLinkHtml;\n",
              "        element.appendChild(docLink);\n",
              "      }\n",
              "    </script>\n",
              "  </div>\n",
              "\n",
              "\n",
              "    <div id=\"df-46899b88-8131-48f5-b9fd-5210e1a97a51\">\n",
              "      <button class=\"colab-df-quickchart\" onclick=\"quickchart('df-46899b88-8131-48f5-b9fd-5210e1a97a51')\"\n",
              "                title=\"Suggest charts\"\n",
              "                style=\"display:none;\">\n",
              "\n",
              "<svg xmlns=\"http://www.w3.org/2000/svg\" height=\"24px\"viewBox=\"0 0 24 24\"\n",
              "     width=\"24px\">\n",
              "    <g>\n",
              "        <path d=\"M19 3H5c-1.1 0-2 .9-2 2v14c0 1.1.9 2 2 2h14c1.1 0 2-.9 2-2V5c0-1.1-.9-2-2-2zM9 17H7v-7h2v7zm4 0h-2V7h2v10zm4 0h-2v-4h2v4z\"/>\n",
              "    </g>\n",
              "</svg>\n",
              "      </button>\n",
              "\n",
              "<style>\n",
              "  .colab-df-quickchart {\n",
              "      --bg-color: #E8F0FE;\n",
              "      --fill-color: #1967D2;\n",
              "      --hover-bg-color: #E2EBFA;\n",
              "      --hover-fill-color: #174EA6;\n",
              "      --disabled-fill-color: #AAA;\n",
              "      --disabled-bg-color: #DDD;\n",
              "  }\n",
              "\n",
              "  [theme=dark] .colab-df-quickchart {\n",
              "      --bg-color: #3B4455;\n",
              "      --fill-color: #D2E3FC;\n",
              "      --hover-bg-color: #434B5C;\n",
              "      --hover-fill-color: #FFFFFF;\n",
              "      --disabled-bg-color: #3B4455;\n",
              "      --disabled-fill-color: #666;\n",
              "  }\n",
              "\n",
              "  .colab-df-quickchart {\n",
              "    background-color: var(--bg-color);\n",
              "    border: none;\n",
              "    border-radius: 50%;\n",
              "    cursor: pointer;\n",
              "    display: none;\n",
              "    fill: var(--fill-color);\n",
              "    height: 32px;\n",
              "    padding: 0;\n",
              "    width: 32px;\n",
              "  }\n",
              "\n",
              "  .colab-df-quickchart:hover {\n",
              "    background-color: var(--hover-bg-color);\n",
              "    box-shadow: 0 1px 2px rgba(60, 64, 67, 0.3), 0 1px 3px 1px rgba(60, 64, 67, 0.15);\n",
              "    fill: var(--button-hover-fill-color);\n",
              "  }\n",
              "\n",
              "  .colab-df-quickchart-complete:disabled,\n",
              "  .colab-df-quickchart-complete:disabled:hover {\n",
              "    background-color: var(--disabled-bg-color);\n",
              "    fill: var(--disabled-fill-color);\n",
              "    box-shadow: none;\n",
              "  }\n",
              "\n",
              "  .colab-df-spinner {\n",
              "    border: 2px solid var(--fill-color);\n",
              "    border-color: transparent;\n",
              "    border-bottom-color: var(--fill-color);\n",
              "    animation:\n",
              "      spin 1s steps(1) infinite;\n",
              "  }\n",
              "\n",
              "  @keyframes spin {\n",
              "    0% {\n",
              "      border-color: transparent;\n",
              "      border-bottom-color: var(--fill-color);\n",
              "      border-left-color: var(--fill-color);\n",
              "    }\n",
              "    20% {\n",
              "      border-color: transparent;\n",
              "      border-left-color: var(--fill-color);\n",
              "      border-top-color: var(--fill-color);\n",
              "    }\n",
              "    30% {\n",
              "      border-color: transparent;\n",
              "      border-left-color: var(--fill-color);\n",
              "      border-top-color: var(--fill-color);\n",
              "      border-right-color: var(--fill-color);\n",
              "    }\n",
              "    40% {\n",
              "      border-color: transparent;\n",
              "      border-right-color: var(--fill-color);\n",
              "      border-top-color: var(--fill-color);\n",
              "    }\n",
              "    60% {\n",
              "      border-color: transparent;\n",
              "      border-right-color: var(--fill-color);\n",
              "    }\n",
              "    80% {\n",
              "      border-color: transparent;\n",
              "      border-right-color: var(--fill-color);\n",
              "      border-bottom-color: var(--fill-color);\n",
              "    }\n",
              "    90% {\n",
              "      border-color: transparent;\n",
              "      border-bottom-color: var(--fill-color);\n",
              "    }\n",
              "  }\n",
              "</style>\n",
              "\n",
              "      <script>\n",
              "        async function quickchart(key) {\n",
              "          const quickchartButtonEl =\n",
              "            document.querySelector('#' + key + ' button');\n",
              "          quickchartButtonEl.disabled = true;  // To prevent multiple clicks.\n",
              "          quickchartButtonEl.classList.add('colab-df-spinner');\n",
              "          try {\n",
              "            const charts = await google.colab.kernel.invokeFunction(\n",
              "                'suggestCharts', [key], {});\n",
              "          } catch (error) {\n",
              "            console.error('Error during call to suggestCharts:', error);\n",
              "          }\n",
              "          quickchartButtonEl.classList.remove('colab-df-spinner');\n",
              "          quickchartButtonEl.classList.add('colab-df-quickchart-complete');\n",
              "        }\n",
              "        (() => {\n",
              "          let quickchartButtonEl =\n",
              "            document.querySelector('#df-46899b88-8131-48f5-b9fd-5210e1a97a51 button');\n",
              "          quickchartButtonEl.style.display =\n",
              "            google.colab.kernel.accessAllowed ? 'block' : 'none';\n",
              "        })();\n",
              "      </script>\n",
              "    </div>\n",
              "\n",
              "    </div>\n",
              "  </div>\n"
            ],
            "application/vnd.google.colaboratory.intrinsic+json": {
              "type": "dataframe",
              "summary": "{\n  \"name\": \"tab_gold_wt\",\n  \"rows\": 5,\n  \"fields\": [\n    {\n      \"column\": \"Guest\",\n      \"properties\": {\n        \"dtype\": \"number\",\n        \"std\": 1,\n        \"min\": 65,\n        \"max\": 69,\n        \"num_unique_values\": 5,\n        \"samples\": [\n          66,\n          69,\n          67\n        ],\n        \"semantic_type\": \"\",\n        \"description\": \"\"\n      }\n    },\n    {\n      \"column\": \"Ligand_clash\",\n      \"properties\": {\n        \"dtype\": \"number\",\n        \"std\": 0.0,\n        \"min\": 0.0,\n        \"max\": 0.0,\n        \"num_unique_values\": 1,\n        \"samples\": [\n          0.0\n        ],\n        \"semantic_type\": \"\",\n        \"description\": \"\"\n      }\n    },\n    {\n      \"column\": \"Ligand_torsion\",\n      \"properties\": {\n        \"dtype\": \"number\",\n        \"std\": 0.036193894512748966,\n        \"min\": 0.0,\n        \"max\": 0.0812,\n        \"num_unique_values\": 3,\n        \"samples\": [\n          0.0\n        ],\n        \"semantic_type\": \"\",\n        \"description\": \"\"\n      }\n    },\n    {\n      \"column\": \"Part_buried\",\n      \"properties\": {\n        \"dtype\": \"number\",\n        \"std\": 1.6532547051195712,\n        \"min\": -3.8245,\n        \"max\": -0.5162,\n        \"num_unique_values\": 5,\n        \"samples\": [\n          -0.5162\n        ],\n        \"semantic_type\": \"\",\n        \"description\": \"\"\n      }\n    },\n    {\n      \"column\": \"Non-polar\",\n      \"properties\": {\n        \"dtype\": \"number\",\n        \"std\": 6.3692360340153815,\n        \"min\": -49.7484,\n        \"max\": -33.5117,\n        \"num_unique_values\": 5,\n        \"samples\": [\n          -49.7484\n        ],\n        \"semantic_type\": \"\",\n        \"description\": \"\"\n      }\n    },\n    {\n      \"column\": \"Ligand_flexibility\",\n      \"properties\": {\n        \"dtype\": \"number\",\n        \"std\": 0,\n        \"min\": 0,\n        \"max\": 2,\n        \"num_unique_values\": 3,\n        \"samples\": [\n          0\n        ],\n        \"semantic_type\": \"\",\n        \"description\": \"\"\n      }\n    }\n  ]\n}"
            }
          },
          "metadata": {},
          "execution_count": 22
        }
      ],
      "source": [
        "\n",
        "# Check functions from gold\n",
        "tab_gold_wt.tail()"
      ]
    },
    {
      "cell_type": "code",
      "execution_count": 23,
      "id": "fb643da3",
      "metadata": {
        "colab": {
          "base_uri": "https://localhost:8080/"
        },
        "id": "fb643da3",
        "outputId": "be8daddc-fde9-4f6b-ed07-06cb1dd2ee18"
      },
      "outputs": [
        {
          "output_type": "stream",
          "name": "stdout",
          "text": [
            "init_Plotter\n"
          ]
        }
      ],
      "source": [
        "# I'll be doing more plotting this time so I'll be OOP\n",
        "eda = plotter.Plotter()"
      ]
    },
    {
      "cell_type": "code",
      "execution_count": 24,
      "id": "1d6234c3",
      "metadata": {
        "colab": {
          "base_uri": "https://localhost:8080/",
          "height": 628
        },
        "id": "1d6234c3",
        "outputId": "5cc124fb-9769-4770-b3af-2a8e0df7112f"
      },
      "outputs": [
        {
          "output_type": "stream",
          "name": "stdout",
          "text": [
            "['Ligand_clash', 'Ligand_torsion', 'Part_buried', 'Non-polar', 'Ligand_flexibility']\n"
          ]
        },
        {
          "output_type": "display_data",
          "data": {
            "text/plain": [
              "<Figure size 900x600 with 5 Axes>"
            ],
            "image/png": "[encoded data removed]"
          },
          "metadata": {}
        }
      ],
      "source": [
        "lst_col = list(tab_gold_wt.columns)\n",
        "lst_col.pop(0)\n",
        "print(lst_col)\n",
        "eda.grid_hist_kde(tab_gold_wt,lst_col)"
      ]
    },
    {
      "cell_type": "code",
      "execution_count": 25,
      "id": "5a79274c",
      "metadata": {
        "colab": {
          "base_uri": "https://localhost:8080/",
          "height": 674
        },
        "id": "5a79274c",
        "outputId": "4cb3d045-5398-49e7-801d-8cc70f6f7bd6"
      },
      "outputs": [
        {
          "output_type": "stream",
          "name": "stdout",
          "text": [
            "...\n",
            " Ligand_torsion\n"
          ]
        },
        {
          "output_type": "display_data",
          "data": {
            "text/plain": [
              "<Figure size 640x480 with 1 Axes>"
            ],
            "image/png": "[encoded data removed]"
          },
          "metadata": {}
        },
        {
          "output_type": "stream",
          "name": "stdout",
          "text": [
            "\n",
            " count    69.000000\n",
            "mean      0.064996\n",
            "std       0.206884\n",
            "min       0.000000\n",
            "25%       0.000000\n",
            "50%       0.000000\n",
            "75%       0.001600\n",
            "max       1.085500\n",
            "Name: Ligand_torsion, dtype: float64\n",
            "\n"
          ]
        }
      ],
      "source": [
        "# Lets get some stats on an odd looking example 'Ligand_torsion'\n",
        "# doesn't show much I will leave it as is.\n",
        "eda.q_q_plot(tab_gold_wt,'Ligand_torsion')"
      ]
    },
    {
      "cell_type": "markdown",
      "source": [
        "This quantile-quantile plot does not align to a theoretical distibuton, we don't wory, my knowlage of the subject and the orginal mauscript of which I was a co-auther tells me that this is good"
      ],
      "metadata": {
        "id": "YsOW5KaOiGAq"
      },
      "id": "YsOW5KaOiGAq"
    },
    {
      "cell_type": "code",
      "execution_count": 26,
      "id": "c5429c68",
      "metadata": {
        "colab": {
          "base_uri": "https://localhost:8080/",
          "height": 528
        },
        "id": "c5429c68",
        "outputId": "38ca9e28-e990-4075-fbc2-e6ae9f0547de"
      },
      "outputs": [
        {
          "output_type": "display_data",
          "data": {
            "text/plain": [
              "<Figure size 640x480 with 2 Axes>"
            ],
            "image/png": "[encoded data removed]"
          },
          "metadata": {}
        }
      ],
      "source": [
        "# Correlation plot show overcorrelation\n",
        "eda.mat_hm_corr_plot(tab_gold_wt,\"Correlation plot for functions from GoldPLP\")"
      ]
    },
    {
      "cell_type": "markdown",
      "source": [
        "all good"
      ],
      "metadata": {
        "id": "4FWQtJvkOv5J"
      },
      "id": "4FWQtJvkOv5J"
    },
    {
      "cell_type": "code",
      "execution_count": 27,
      "id": "f7906d52",
      "metadata": {
        "colab": {
          "base_uri": "https://localhost:8080/"
        },
        "id": "f7906d52",
        "outputId": "7e32b17e-32a5-4acc-9fee-a6ebd0ff4356"
      },
      "outputs": [
        {
          "output_type": "execute_result",
          "data": {
            "text/plain": [
              "(69, 5)"
            ]
          },
          "metadata": {},
          "execution_count": 27
        }
      ],
      "source": [
        "# put all gold functions into an array and check shape\n",
        "x_all = np.array(tab_gold_wt.iloc[:,1:])\n",
        "x_all.shape"
      ]
    },
    {
      "cell_type": "markdown",
      "source": [
        "Normilise our data"
      ],
      "metadata": {
        "id": "5cw_VayI_h5c"
      },
      "id": "5cw_VayI_h5c"
    },
    {
      "cell_type": "code",
      "source": [
        "x_all = preprocessing.normalize(x_all)\n",
        "#print(x_all)"
      ],
      "metadata": {
        "id": "YmotHoFCM4Ul"
      },
      "id": "YmotHoFCM4Ul",
      "execution_count": 28,
      "outputs": []
    },
    {
      "cell_type": "markdown",
      "id": "23958946",
      "metadata": {
        "id": "23958946"
      },
      "source": [
        "### Rerun our model"
      ]
    },
    {
      "cell_type": "code",
      "execution_count": 29,
      "id": "feeafb53",
      "metadata": {
        "colab": {
          "base_uri": "https://localhost:8080/"
        },
        "id": "feeafb53",
        "outputId": "301ebe46-1e52-4ba2-f027-2bc4697074a2"
      },
      "outputs": [
        {
          "output_type": "stream",
          "name": "stdout",
          "text": [
            "Number of samples in:\n",
            "    Training: 55\n",
            "    Testing: 14\n"
          ]
        }
      ],
      "source": [
        "# A Random seed fort the split of test and train\n",
        "# change the seed?\n",
        "np.random.seed(15)\n",
        "\n",
        "X = x_all\n",
        "y = all_logKexp.iloc[:,1:]\n",
        "X_train, X_test, y_train, y_test = train_test_split(X, y, test_size=0.2)\n",
        "\n",
        "print(\"Number of samples in:\")\n",
        "print(f\"    Training: {len(y_train)}\")\n",
        "print(f\"    Testing: {len(y_test)}\")"
      ]
    },
    {
      "cell_type": "code",
      "execution_count": 30,
      "id": "38d4d996",
      "metadata": {
        "colab": {
          "base_uri": "https://localhost:8080/",
          "height": 446
        },
        "id": "38d4d996",
        "outputId": "d89679a0-0ff5-4193-db32-ced5f9d97002"
      },
      "outputs": [
        {
          "output_type": "stream",
          "name": "stdout",
          "text": [
            "Coefficients = [[-468.92001849   80.27818155   40.05474146  184.59199134  -53.07928189]]\n",
            "RMSE: 1.4592095135224934\n"
          ]
        },
        {
          "output_type": "display_data",
          "data": {
            "text/plain": [
              "<Figure size 400x400 with 1 Axes>"
            ],
            "image/png": "[encoded data removed]"
          },
          "metadata": {}
        }
      ],
      "source": [
        "\n",
        "\n",
        "model = LinearRegression().fit(X_train, y_train)\n",
        "y_pred = model.predict(pd.DataFrame(X_test))\n",
        "coeff = model.coef_\n",
        "print(f'Coefficients = {coeff}')\n",
        "print(f'RMSE: {root_mean_squared_error(y_test, y_pred)}')\n",
        "plotter.Plotter.hg_scatter_mod_tl(y_test, y_pred, \"logKexpt\", \"logKcalc\")"
      ]
    },
    {
      "cell_type": "markdown",
      "source": [
        "### Let try some different models..\n",
        "\n",
        "### Random forest regression\n",
        "a disssion tree based method"
      ],
      "metadata": {
        "id": "mXkPXA_gTnNW"
      },
      "id": "mXkPXA_gTnNW"
    },
    {
      "cell_type": "code",
      "execution_count": 30,
      "id": "474eefb0",
      "metadata": {
        "id": "474eefb0"
      },
      "outputs": [],
      "source": []
    },
    {
      "cell_type": "code",
      "source": [
        "# A Random seed fort the split of test and train\n",
        "# change the seed?\n",
        "np.random.seed(15)\n",
        "\n",
        "X = x_all\n",
        "y = all_logKexp.iloc[:,1:]\n",
        "X_train, X_test, y_train, y_test = train_test_split(X, y, test_size=0.2)\n",
        "\n",
        "print(\"Number of samples in:\")\n",
        "print(f\"    Training: {len(y_train)}\")\n",
        "print(f\"    Testing: {len(y_test)}\")"
      ],
      "metadata": {
        "id": "whzJa80DS-ec",
        "outputId": "82d54b37-15b0-4cb4-c6b3-a8534bd0e091",
        "colab": {
          "base_uri": "https://localhost:8080/"
        }
      },
      "id": "whzJa80DS-ec",
      "execution_count": 31,
      "outputs": [
        {
          "output_type": "stream",
          "name": "stdout",
          "text": [
            "Number of samples in:\n",
            "    Training: 55\n",
            "    Testing: 14\n"
          ]
        }
      ]
    },
    {
      "cell_type": "code",
      "execution_count": 32,
      "id": "de99e47d",
      "metadata": {
        "id": "de99e47d",
        "colab": {
          "base_uri": "https://localhost:8080/",
          "height": 483
        },
        "outputId": "ee440715-9b0c-4861-c270-d4662127cfd8"
      },
      "outputs": [
        {
          "output_type": "stream",
          "name": "stderr",
          "text": [
            "/usr/local/lib/python3.12/dist-packages/sklearn/base.py:1389: DataConversionWarning: A column-vector y was passed when a 1d array was expected. Please change the shape of y to (n_samples,), for example using ravel().\n",
            "  return fit_method(estimator, *args, **kwargs)\n"
          ]
        },
        {
          "output_type": "stream",
          "name": "stdout",
          "text": [
            "RMSE: 0.8309759415891871\n"
          ]
        },
        {
          "output_type": "display_data",
          "data": {
            "text/plain": [
              "<Figure size 400x400 with 1 Axes>"
            ],
            "image/png": "[encoded data removed]"
          },
          "metadata": {}
        }
      ],
      "source": [
        "model = RandomForestRegressor(n_estimators=100, max_depth=10, random_state=42, n_jobs=-1).fit(X_train, y_train)\n",
        "y_pred = model.predict(pd.DataFrame(X_test))\n",
        "#coeff = model.coef_\n",
        "#print(f'Coefficients = {coeff}')\n",
        "print(f'RMSE: {root_mean_squared_error(y_test, y_pred)}')\n",
        "plotter.Plotter.hg_scatter_mod_tl(y_test, y_pred, \"logKexpt\", \"logKcalc\")"
      ]
    },
    {
      "cell_type": "markdown",
      "source": [
        "#### MLP regressoin\n",
        "Multi-layer Perceptron regression this a neural networks method"
      ],
      "metadata": {
        "id": "G_0VEaMB1eN6"
      },
      "id": "G_0VEaMB1eN6"
    },
    {
      "cell_type": "code",
      "source": [
        "# A Random seed fort the split of test and train\n",
        "# change the seed?\n",
        "np.random.seed(15)\n",
        "\n",
        "X = x_all\n",
        "y = all_logKexp.iloc[:,1:]\n",
        "X_train, X_test, y_train, y_test = train_test_split(X, y, test_size=0.2)\n",
        "\n",
        "print(\"Number of samples in:\")\n",
        "print(f\"    Training: {len(y_train)}\")\n",
        "print(f\"    Testing: {len(y_test)}\")"
      ],
      "metadata": {
        "id": "R81eY_EsTB7F",
        "outputId": "6156a93e-3468-479e-88f8-7ecda9a312fe",
        "colab": {
          "base_uri": "https://localhost:8080/"
        }
      },
      "id": "R81eY_EsTB7F",
      "execution_count": 33,
      "outputs": [
        {
          "output_type": "stream",
          "name": "stdout",
          "text": [
            "Number of samples in:\n",
            "    Training: 55\n",
            "    Testing: 14\n"
          ]
        }
      ]
    },
    {
      "cell_type": "code",
      "source": [
        "model = MLPRegressor(hidden_layer_sizes=(64, 32),max_iter=10000, random_state=42)\n",
        "model.fit(X_train, y_train)\n",
        "y_pred = model.predict(X_test)\n",
        "#coeff = model.coef_\n",
        "#print(f'Coefficients = {coeff}')\n",
        "print(f'RMSE: {root_mean_squared_error(y_test, y_pred)}')\n",
        "plotter.Plotter.hg_scatter_mod_tl(y_test, y_pred, \"logKexpt\", \"logKcalc\")"
      ],
      "metadata": {
        "id": "_YSrmvrbQ15I",
        "outputId": "0f2ad377-29f3-4faf-97b6-8fd634b097fd",
        "colab": {
          "base_uri": "https://localhost:8080/",
          "height": 483
        }
      },
      "id": "_YSrmvrbQ15I",
      "execution_count": 34,
      "outputs": [
        {
          "output_type": "stream",
          "name": "stderr",
          "text": [
            "/usr/local/lib/python3.12/dist-packages/sklearn/neural_network/_multilayer_perceptron.py:1650: DataConversionWarning: A column-vector y was passed when a 1d array was expected. Please change the shape of y to (n_samples, ), for example using ravel().\n",
            "  y = column_or_1d(y, warn=True)\n"
          ]
        },
        {
          "output_type": "stream",
          "name": "stdout",
          "text": [
            "RMSE: 1.0257319446264144\n"
          ]
        },
        {
          "output_type": "display_data",
          "data": {
            "text/plain": [
              "<Figure size 400x400 with 1 Axes>"
            ],
            "image/png": "[encoded data removed]"
          },
          "metadata": {}
        }
      ]
    },
    {
      "cell_type": "code",
      "source": [],
      "metadata": {
        "id": "MVeP1VbmRdRQ"
      },
      "id": "MVeP1VbmRdRQ",
      "execution_count": 34,
      "outputs": []
    }
  ],
  "metadata": {
    "kernelspec": {
      "display_name": "ai_core_course",
      "language": "python",
      "name": "python3"
    },
    "language_info": {
      "codemirror_mode": {
        "name": "ipython",
        "version": 3
      },
      "file_extension": ".py",
      "mimetype": "text/x-python",
      "name": "python",
      "nbconvert_exporter": "python",
      "pygments_lexer": "ipython3",
      "version": "3.12.3"
    },
    "colab": {
      "provenance": [],
      "include_colab_link": true
    }
  },
  "nbformat": 4,
  "nbformat_minor": 5
}