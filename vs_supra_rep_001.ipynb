{
 "cells": [
  {
   "cell_type": "markdown",
   "id": "d8f9aae7",
   "metadata": {},
   "source": []
  },
  {
   "cell_type": "code",
   "execution_count": 1,
   "id": "176899e2",
   "metadata": {},
   "outputs": [],
   "source": [
    "import simons_data_science_library as sdl\n",
    "import pandas as pd\n",
    "from simons_data_science_library import db_utils as rdc"
   ]
  },
  {
   "cell_type": "code",
   "execution_count": 4,
   "id": "80ce6c7f",
   "metadata": {},
   "outputs": [
    {
     "name": "stdout",
     "output_type": "stream",
     "text": [
      "our df\n",
      "   Guest  Ligand_clash  Ligand_torsion  Part_buried  Non-polar  \\\n",
      "0      1           0.0             0.0      -2.1090   -43.3137   \n",
      "1      2           0.0             0.0      -3.0465   -27.4388   \n",
      "2      3           0.0             0.0      -2.4099   -41.2634   \n",
      "3      4           0.0             0.0      -2.2600   -32.0514   \n",
      "4      5           0.0             0.0      -2.7351   -40.6438   \n",
      "\n",
      "   Ligand_flexibility  \n",
      "0                   0  \n",
      "1                   0  \n",
      "2                   0  \n",
      "3                   0  \n",
      "4                   0  \n"
     ]
    }
   ],
   "source": [
    "table = rdc.RDSDatabaseConnector.csv_load('gold_weightings.txt', ' ')"
   ]
  },
  {
   "cell_type": "code",
   "execution_count": null,
   "id": "30e01f5a",
   "metadata": {},
   "outputs": [],
   "source": []
  }
 ],
 "metadata": {
  "kernelspec": {
   "display_name": "ai_core_course",
   "language": "python",
   "name": "python3"
  },
  "language_info": {
   "codemirror_mode": {
    "name": "ipython",
    "version": 3
   },
   "file_extension": ".py",
   "mimetype": "text/x-python",
   "name": "python",
   "nbconvert_exporter": "python",
   "pygments_lexer": "ipython3",
   "version": "3.12.3"
  }
 },
 "nbformat": 4,
 "nbformat_minor": 5
}
