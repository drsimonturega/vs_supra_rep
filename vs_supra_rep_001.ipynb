{
 "cells": [
  {
   "cell_type": "markdown",
   "id": "d8f9aae7",
   "metadata": {},
   "source": [
    "# Virtual screening for high affinity guests for synthetic supramolecular receptors"
   ]
  },
  {
   "cell_type": "markdown",
   "id": "d64092e4",
   "metadata": {},
   "source": [
    "## Replication of our analysis in the manuscript using python"
   ]
  },
  {
   "cell_type": "code",
   "execution_count": 1,
   "id": "176899e2",
   "metadata": {},
   "outputs": [],
   "source": [
    "import pandas as pd\n",
    "import numpy as np\n",
    "from simons_data_science_library import db_utils as rdc\n",
    "from simons_data_science_library import dat_tran as dtran"
   ]
  },
  {
   "cell_type": "markdown",
   "id": "2e47b26a",
   "metadata": {},
   "source": [
    "### We load and clean data from the supporting information\n",
    "\n",
    "#### Molecular descriptors"
   ]
  },
  {
   "cell_type": "code",
   "execution_count": 2,
   "id": "80ce6c7f",
   "metadata": {},
   "outputs": [
    {
     "name": "stdout",
     "output_type": "stream",
     "text": [
      "our df\n",
      "   Guest  Ligand_clash  Ligand_torsion  Part_buried  Non-polar  \\\n",
      "0      1           0.0             0.0      -2.1090   -43.3137   \n",
      "1      2           0.0             0.0      -3.0465   -27.4388   \n",
      "2      3           0.0             0.0      -2.4099   -41.2634   \n",
      "3      4           0.0             0.0      -2.2600   -32.0514   \n",
      "4      5           0.0             0.0      -2.7351   -40.6438   \n",
      "\n",
      "   Ligand_flexibility  \n",
      "0                   0  \n",
      "1                   0  \n",
      "2                   0  \n",
      "3                   0  \n",
      "4                   0  \n"
     ]
    }
   ],
   "source": [
    "tab_gold_wt = rdc.RDSDatabaseConnector.csv_load('gold_weightings.txt', ' ')"
   ]
  },
  {
   "cell_type": "markdown",
   "id": "34098de4",
   "metadata": {},
   "source": [
    "#### ChemPLP scoring function"
   ]
  },
  {
   "cell_type": "code",
   "execution_count": 3,
   "id": "5fe1a1db",
   "metadata": {},
   "outputs": [
    {
     "name": "stdout",
     "output_type": "stream",
     "text": [
      "our df\n",
      "   Guest  logKexpt  ChemPLP_Score  Guest.1  logKexpt.1  ChemPLP_Score.1  \\\n",
      "0      1      3.49          49.81       19        4.28            45.54   \n",
      "1      2      1.15          39.49       20        3.94            50.66   \n",
      "2      3      3.83          48.47       21        1.15            47.52   \n",
      "3      4      1.87          38.88       22        1.73            38.51   \n",
      "4      5      3.96          47.67       23        2.11            39.26   \n",
      "\n",
      "   Guest.2  logKexpt.2  ChemPLP_Score.2  \n",
      "0       37        4.90            53.86  \n",
      "1       38        4.30            57.79  \n",
      "2       39        4.00            49.12  \n",
      "3       40        1.95            45.94  \n",
      "4       41        2.08            53.28  \n"
     ]
    }
   ],
   "source": [
    "chemplp_score = rdc.RDSDatabaseConnector.csv_load('chemplp_score.txt', ' ')"
   ]
  },
  {
   "cell_type": "code",
   "execution_count": 4,
   "id": "03ba6a53",
   "metadata": {},
   "outputs": [
    {
     "name": "stdout",
     "output_type": "stream",
     "text": [
      "3\n"
     ]
    },
    {
     "data": {
      "text/html": [
       "<div>\n",
       "<style scoped>\n",
       "    .dataframe tbody tr th:only-of-type {\n",
       "        vertical-align: middle;\n",
       "    }\n",
       "\n",
       "    .dataframe tbody tr th {\n",
       "        vertical-align: top;\n",
       "    }\n",
       "\n",
       "    .dataframe thead th {\n",
       "        text-align: right;\n",
       "    }\n",
       "</style>\n",
       "<table border=\"1\" class=\"dataframe\">\n",
       "  <thead>\n",
       "    <tr style=\"text-align: right;\">\n",
       "      <th></th>\n",
       "      <th>Guest</th>\n",
       "      <th>logKexpt</th>\n",
       "      <th>ChemPLP_Score</th>\n",
       "    </tr>\n",
       "  </thead>\n",
       "  <tbody>\n",
       "    <tr>\n",
       "      <th>49</th>\n",
       "      <td>50</td>\n",
       "      <td>2.30</td>\n",
       "      <td>44.66</td>\n",
       "    </tr>\n",
       "    <tr>\n",
       "      <th>50</th>\n",
       "      <td>51</td>\n",
       "      <td>0.48</td>\n",
       "      <td>40.70</td>\n",
       "    </tr>\n",
       "    <tr>\n",
       "      <th>51</th>\n",
       "      <td>52</td>\n",
       "      <td>0.70</td>\n",
       "      <td>42.40</td>\n",
       "    </tr>\n",
       "    <tr>\n",
       "      <th>52</th>\n",
       "      <td>53</td>\n",
       "      <td>0.90</td>\n",
       "      <td>39.14</td>\n",
       "    </tr>\n",
       "    <tr>\n",
       "      <th>53</th>\n",
       "      <td>54</td>\n",
       "      <td>0.70</td>\n",
       "      <td>46.49</td>\n",
       "    </tr>\n",
       "  </tbody>\n",
       "</table>\n",
       "</div>"
      ],
      "text/plain": [
       "    Guest  logKexpt  ChemPLP_Score\n",
       "49     50      2.30          44.66\n",
       "50     51      0.48          40.70\n",
       "51     52      0.70          42.40\n",
       "52     53      0.90          39.14\n",
       "53     54      0.70          46.49"
      ]
     },
     "execution_count": 4,
     "metadata": {},
     "output_type": "execute_result"
    }
   ],
   "source": [
    "chemplp_score = dtran.DataTransform.df_reshape_one(chemplp_score,3)\n",
    "chemplp_score.tail()"
   ]
  },
  {
   "cell_type": "markdown",
   "id": "d2b56b49",
   "metadata": {},
   "source": [
    "#### LogK calculated using equation 2"
   ]
  },
  {
   "cell_type": "code",
   "execution_count": 5,
   "id": "30e01f5a",
   "metadata": {},
   "outputs": [
    {
     "name": "stdout",
     "output_type": "stream",
     "text": [
      "our df\n",
      "   Guest  logKexpt  logKcalc  Guest.1  logKexpt.1  logKcalc.1  Guest.2  \\\n",
      "0      1      3.49      3.28       19        4.28        2.92       37   \n",
      "1      2      1.15      1.87       20        3.94        2.43       38   \n",
      "2      3      3.83      3.08       21        1.15        1.99       39   \n",
      "3      4      1.87      2.34       22        1.73        2.35       40   \n",
      "4      5      3.96      2.99       23        2.11        2.37       41   \n",
      "\n",
      "   logKexpt.2  logKcalc.2  \n",
      "0        4.90        3.27  \n",
      "1        4.30        3.83  \n",
      "2        4.00        3.23  \n",
      "3        1.95        3.65  \n",
      "4        2.08        0.38  \n"
     ]
    }
   ],
   "source": [
    "eq2_train_logk = rdc.RDSDatabaseConnector.csv_load('eq2_train_lit_logk.txt', ' ')"
   ]
  },
  {
   "cell_type": "code",
   "execution_count": 6,
   "id": "8c1cc37f",
   "metadata": {},
   "outputs": [
    {
     "name": "stdout",
     "output_type": "stream",
     "text": [
      "3\n"
     ]
    },
    {
     "data": {
      "text/html": [
       "<div>\n",
       "<style scoped>\n",
       "    .dataframe tbody tr th:only-of-type {\n",
       "        vertical-align: middle;\n",
       "    }\n",
       "\n",
       "    .dataframe tbody tr th {\n",
       "        vertical-align: top;\n",
       "    }\n",
       "\n",
       "    .dataframe thead th {\n",
       "        text-align: right;\n",
       "    }\n",
       "</style>\n",
       "<table border=\"1\" class=\"dataframe\">\n",
       "  <thead>\n",
       "    <tr style=\"text-align: right;\">\n",
       "      <th></th>\n",
       "      <th>Guest</th>\n",
       "      <th>logKexpt</th>\n",
       "      <th>logKcalc</th>\n",
       "    </tr>\n",
       "  </thead>\n",
       "  <tbody>\n",
       "    <tr>\n",
       "      <th>49</th>\n",
       "      <td>50</td>\n",
       "      <td>2.30</td>\n",
       "      <td>2.98</td>\n",
       "    </tr>\n",
       "    <tr>\n",
       "      <th>50</th>\n",
       "      <td>51</td>\n",
       "      <td>0.48</td>\n",
       "      <td>1.96</td>\n",
       "    </tr>\n",
       "    <tr>\n",
       "      <th>51</th>\n",
       "      <td>52</td>\n",
       "      <td>0.70</td>\n",
       "      <td>2.56</td>\n",
       "    </tr>\n",
       "    <tr>\n",
       "      <th>52</th>\n",
       "      <td>53</td>\n",
       "      <td>0.90</td>\n",
       "      <td>2.12</td>\n",
       "    </tr>\n",
       "    <tr>\n",
       "      <th>53</th>\n",
       "      <td>54</td>\n",
       "      <td>0.70</td>\n",
       "      <td>2.67</td>\n",
       "    </tr>\n",
       "  </tbody>\n",
       "</table>\n",
       "</div>"
      ],
      "text/plain": [
       "    Guest  logKexpt  logKcalc\n",
       "49     50      2.30      2.98\n",
       "50     51      0.48      1.96\n",
       "51     52      0.70      2.56\n",
       "52     53      0.90      2.12\n",
       "53     54      0.70      2.67"
      ]
     },
     "execution_count": 6,
     "metadata": {},
     "output_type": "execute_result"
    }
   ],
   "source": [
    "eq2_train_logk = dtran.DataTransform.df_reshape_one(eq2_train_logk,3)\n",
    "eq2_train_logk.tail()"
   ]
  },
  {
   "cell_type": "code",
   "execution_count": 7,
   "id": "3076d3e3",
   "metadata": {},
   "outputs": [
    {
     "name": "stdout",
     "output_type": "stream",
     "text": [
      "our df\n",
      "   Guest  logKexpt  logKcalc  Guest.1  logKexpt.1  logKcalc.1  Guest.2  \\\n",
      "0      1      3.49      4.02       19        4.28        3.58       37   \n",
      "1      2      1.15      2.20       20        3.94        3.52       38   \n",
      "2      3      3.83      3.75       21        1.15        2.40       39   \n",
      "3      4      1.87      2.83       22        1.73        2.85       40   \n",
      "4      5      3.96      3.62       23        2.11        2.87       41   \n",
      "\n",
      "   logKexpt.2  logKcalc.2  \n",
      "0        4.90        3.02  \n",
      "1        4.30        3.82  \n",
      "2        4.00        3.95  \n",
      "3        1.95        3.58  \n",
      "4        2.08        1.75  \n"
     ]
    }
   ],
   "source": [
    "eq3_train_logk= rdc.RDSDatabaseConnector.csv_load('eq3_train_lit_logk.txt', ' ')"
   ]
  },
  {
   "cell_type": "code",
   "execution_count": 8,
   "id": "d26315c9",
   "metadata": {},
   "outputs": [
    {
     "name": "stdout",
     "output_type": "stream",
     "text": [
      "3\n"
     ]
    },
    {
     "data": {
      "text/html": [
       "<div>\n",
       "<style scoped>\n",
       "    .dataframe tbody tr th:only-of-type {\n",
       "        vertical-align: middle;\n",
       "    }\n",
       "\n",
       "    .dataframe tbody tr th {\n",
       "        vertical-align: top;\n",
       "    }\n",
       "\n",
       "    .dataframe thead th {\n",
       "        text-align: right;\n",
       "    }\n",
       "</style>\n",
       "<table border=\"1\" class=\"dataframe\">\n",
       "  <thead>\n",
       "    <tr style=\"text-align: right;\">\n",
       "      <th></th>\n",
       "      <th>Guest</th>\n",
       "      <th>logKexpt</th>\n",
       "      <th>logKcalc</th>\n",
       "    </tr>\n",
       "  </thead>\n",
       "  <tbody>\n",
       "    <tr>\n",
       "      <th>49</th>\n",
       "      <td>50</td>\n",
       "      <td>2.30</td>\n",
       "      <td>3.66</td>\n",
       "    </tr>\n",
       "    <tr>\n",
       "      <th>50</th>\n",
       "      <td>51</td>\n",
       "      <td>0.48</td>\n",
       "      <td>2.29</td>\n",
       "    </tr>\n",
       "    <tr>\n",
       "      <th>51</th>\n",
       "      <td>52</td>\n",
       "      <td>0.70</td>\n",
       "      <td>2.19</td>\n",
       "    </tr>\n",
       "    <tr>\n",
       "      <th>52</th>\n",
       "      <td>53</td>\n",
       "      <td>0.90</td>\n",
       "      <td>1.58</td>\n",
       "    </tr>\n",
       "    <tr>\n",
       "      <th>53</th>\n",
       "      <td>54</td>\n",
       "      <td>0.70</td>\n",
       "      <td>1.41</td>\n",
       "    </tr>\n",
       "  </tbody>\n",
       "</table>\n",
       "</div>"
      ],
      "text/plain": [
       "    Guest  logKexpt  logKcalc\n",
       "49     50      2.30      3.66\n",
       "50     51      0.48      2.29\n",
       "51     52      0.70      2.19\n",
       "52     53      0.90      1.58\n",
       "53     54      0.70      1.41"
      ]
     },
     "execution_count": 8,
     "metadata": {},
     "output_type": "execute_result"
    }
   ],
   "source": [
    "eq3_train_logk = dtran.DataTransform.df_reshape_one(eq3_train_logk,3)\n",
    "eq3_train_logk.tail()"
   ]
  },
  {
   "cell_type": "code",
   "execution_count": 9,
   "id": "00fef418",
   "metadata": {},
   "outputs": [
    {
     "name": "stdout",
     "output_type": "stream",
     "text": [
      "our df\n",
      "   Guest  logKexpt  logKcalc  Guest.1  logKexpt.1  logKcalc.1\n",
      "0     55      6.80      7.12     63.0        4.45        4.10\n",
      "1     56      8.00      6.35     64.0        4.18        4.06\n",
      "2     57      7.26      6.29     65.0        4.20        4.02\n",
      "3     58      6.06      6.00     66.0        4.11        4.08\n",
      "4     59      6.09      5.74     67.0        3.60        3.24\n"
     ]
    }
   ],
   "source": [
    "eq3_test_logk= rdc.RDSDatabaseConnector.csv_load('eq3_test_lit_logk.txt', ' ')"
   ]
  },
  {
   "cell_type": "code",
   "execution_count": 10,
   "id": "403d3ea9",
   "metadata": {},
   "outputs": [
    {
     "name": "stdout",
     "output_type": "stream",
     "text": [
      "2\n"
     ]
    },
    {
     "data": {
      "text/html": [
       "<div>\n",
       "<style scoped>\n",
       "    .dataframe tbody tr th:only-of-type {\n",
       "        vertical-align: middle;\n",
       "    }\n",
       "\n",
       "    .dataframe tbody tr th {\n",
       "        vertical-align: top;\n",
       "    }\n",
       "\n",
       "    .dataframe thead th {\n",
       "        text-align: right;\n",
       "    }\n",
       "</style>\n",
       "<table border=\"1\" class=\"dataframe\">\n",
       "  <thead>\n",
       "    <tr style=\"text-align: right;\">\n",
       "      <th></th>\n",
       "      <th>Guest</th>\n",
       "      <th>logKexpt</th>\n",
       "      <th>logKcalc</th>\n",
       "    </tr>\n",
       "  </thead>\n",
       "  <tbody>\n",
       "    <tr>\n",
       "      <th>10</th>\n",
       "      <td>65.0</td>\n",
       "      <td>4.20</td>\n",
       "      <td>4.02</td>\n",
       "    </tr>\n",
       "    <tr>\n",
       "      <th>11</th>\n",
       "      <td>66.0</td>\n",
       "      <td>4.11</td>\n",
       "      <td>4.08</td>\n",
       "    </tr>\n",
       "    <tr>\n",
       "      <th>12</th>\n",
       "      <td>67.0</td>\n",
       "      <td>3.60</td>\n",
       "      <td>3.24</td>\n",
       "    </tr>\n",
       "    <tr>\n",
       "      <th>13</th>\n",
       "      <td>68.0</td>\n",
       "      <td>1.11</td>\n",
       "      <td>0.88</td>\n",
       "    </tr>\n",
       "    <tr>\n",
       "      <th>14</th>\n",
       "      <td>69.0</td>\n",
       "      <td>3.40</td>\n",
       "      <td>2.51</td>\n",
       "    </tr>\n",
       "  </tbody>\n",
       "</table>\n",
       "</div>"
      ],
      "text/plain": [
       "    Guest  logKexpt  logKcalc\n",
       "10   65.0      4.20      4.02\n",
       "11   66.0      4.11      4.08\n",
       "12   67.0      3.60      3.24\n",
       "13   68.0      1.11      0.88\n",
       "14   69.0      3.40      2.51"
      ]
     },
     "execution_count": 10,
     "metadata": {},
     "output_type": "execute_result"
    }
   ],
   "source": [
    "eq3_test_logk = dtran.DataTransform.df_reshape_one(eq3_test_logk,3)\n",
    "\n",
    "eq3_test_logk.tail()"
   ]
  },
  {
   "cell_type": "code",
   "execution_count": 11,
   "id": "07b38b10",
   "metadata": {},
   "outputs": [
    {
     "name": "stdout",
     "output_type": "stream",
     "text": [
      "    Guest  logKexpt  logKcalc\n",
      "0    55.0      6.80      7.12\n",
      "1    56.0      8.00      6.35\n",
      "2    57.0      7.26      6.29\n",
      "3    58.0      6.06      6.00\n",
      "4    59.0      6.09      5.74\n",
      "5    60.0      5.73      5.68\n",
      "6    61.0      5.50      6.73\n",
      "7    62.0      2.88      3.27\n",
      "8    63.0      4.45      4.10\n",
      "9    64.0      4.18      4.06\n",
      "10   65.0      4.20      4.02\n",
      "11   66.0      4.11      4.08\n",
      "12   67.0      3.60      3.24\n",
      "13   68.0      1.11      0.88\n",
      "14   69.0      3.40      2.51\n"
     ]
    }
   ],
   "source": [
    "print(eq3_test_logk)"
   ]
  },
  {
   "cell_type": "code",
   "execution_count": null,
   "id": "8861780a",
   "metadata": {},
   "outputs": [],
   "source": []
  }
 ],
 "metadata": {
  "kernelspec": {
   "display_name": "ai_core_course",
   "language": "python",
   "name": "python3"
  },
  "language_info": {
   "codemirror_mode": {
    "name": "ipython",
    "version": 3
   },
   "file_extension": ".py",
   "mimetype": "text/x-python",
   "name": "python",
   "nbconvert_exporter": "python",
   "pygments_lexer": "ipython3",
   "version": "3.12.3"
  }
 },
 "nbformat": 4,
 "nbformat_minor": 5
}
